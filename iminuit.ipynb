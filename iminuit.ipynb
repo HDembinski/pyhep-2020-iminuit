{
 "cells": [
  {
   "cell_type": "markdown",
   "metadata": {},
   "source": [
    "# iminuit: Past and Future\n",
    "\n",
    "* Hans Dembinski, TU Dortmund, Germany\n",
    "\n",
    "PyPI          | https://pypi.org/project/iminuit\n",
    " --------------|:--------------------------------------\n",
    "Code          | https://github.com/scikit-hep/iminuit\n",
    "Documentation | http://iminuit.readthedocs.org\n",
    "Gitter        | https://gitter.im/Scikit-HEP/community\n",
    "\n",
    "## Introduction to iminuit\n",
    "\n",
    "### iminuit is a frontend to Minuit\n",
    "- Minuit: General purpose tool to minimize statistical cost functions with box constraints **and to compute parameter uncertainties** (fairly unique to Minuit)\n",
    "- Robust technology from 1975 that stood the tests of time\n",
    "- Python frontend to MINUIT2 C++ code used by ROOT\n",
    "    - Uses original ROOT code\n",
    "    - MINUIT is driving backend in virtually every HEP analysis\n",
    "\n",
    "#### Minimization: Migrad algorithm\n",
    "\n",
    "- Newton-steps with along-the-way updated hessian matrix\n",
    "- Fallback to steepest descent with line search\n",
    "- Various heuristics to deal with sticky situations\n",
    "- Box-constraints implemented via parameter transformations\n",
    "- Stopping criterion: Estimated distance to minimum (EDM), very well suited to statistics problems\n",
    "\n",
    "#### Uncertainty computation: Hesse and Minos algorithms\n",
    "- Hesse algorithm, 1D intervals and ND contours\n",
    "- Minos algorithm, 1D intervals and ND contours\n",
    "- Also respect box-constraints\n",
    "- Different pros and cons, Hesse recommended as default (more later)\n",
    "\n",
    "### A bit of (version) history\n",
    "\n",
    "#### Fortran\n",
    "- Original MINUIT in Fortran (1975)\n",
    "\n",
    "#### C/C++\n",
    "- TMinuit: Original ported to C and integrated into ROOT (~2000)\n",
    "- Minuit2 (aka SEAL Minuit)\n",
    "    - Ambitious rewrite of MINUIT in C++ (2002-2006)\n",
    "    - Originally standalone project, now integrated into ROOT\n",
    "\n",
    "#### Python\n",
    "- pyminuit, pyminuit2\n",
    "    - Original Minuit Python wrappers by Jim Pivarski\n",
    "    - Feature highlight: auto-detection of parameter names in functions\n",
    "- iminuit\n",
    "    - Rewrite using Cython by Piti Ongmongkolkul\n",
    "    - Interface-compatible with pyminuit\n",
    "    - *i* for interactive: Pretty display of fit status in Jupyter notebooks\n",
    "    - Intermediate maintainer Christoph Deil (leading developer of [gammapy](https://gammapy.org/))\n",
    "    - HD took over as maintainer in 2018\n",
    "    - iminuit joined Scikit-HEP\n",
    "    - Version 1.3\n",
    "        - Tighter intergration with numpy\n",
    "            - Support functions that accept parameters as numpy arrays\n",
    "            - Access to parameters and covariance matrix as numpy arrays\n",
    "        - Support for modifying fit state between fitting steps (**key feature** of MINUIT)\n",
    "            - Fix and release parameters\n",
    "            - Change parameter values\n",
    "        - Better code sharing with ROOT C++ (credit: Henry Schreiner, GooFit)\n",
    "        - Prebuild Python wheels and conda packages for every release (credit: Henry Schreiner, Chris Burr, Matt Craig, Brigitta Sipőcz, Matthew Becker)\n",
    "        - Added lots and lots of documentation and tutorials\n",
    "            - Try iminuit tutorials on Binder (credit: Matthew Feickert)\n",
    "        - Lots of bug-fixes in the interface\n",
    "        - Allow computing \"Hesse\" uncertainties without prior call to Migrad \n",
    "    - Version 1.4 (current version 1.4.7)\n",
    "        - Further pythonization of interface\n",
    "            - Duplicated and legacy interface deprecated\n",
    "            - Replaced getter/setters with properties\n",
    "            - Make similar objects work alike\n",
    "            - Comply with Python/Numpy expectations (e.g. dict-like objects support dict interface)\n",
    "            - Slicing and broadcasting syntax for `Minuit.values`, `Minuit.errors`, `Minuit.fixed` (more later)\n",
    "            - Increasing consistency pays off\n",
    "                - Reduces mental load\n",
    "                - Makes iminuit easier to teach and learn\n",
    "        - PDG-rule rounding for values with errors\n",
    "        - Cost functions (more later)\n",
    "        - C++ Minuit2 updated to ROOT v6.23-01 (fixes some long-standing minor cornercase bugs)"
   ]
  },
  {
   "cell_type": "markdown",
   "metadata": {},
   "source": [
    "### Deprecated interface\n",
    "\n",
    "* Minuit.list_of_fixed_params(), Minuit.list_of_vary_params(): use Minuit.fixed\n",
    "* Minuit.migrad_ok(): use Minuit.valid\n",
    "* Minuit.matrix_accurate(): use Minuit.accurate\n",
    "* Minuit.get_fmin(): use Minuit.fmin\n",
    "* Minuit.get_param_states(): use Minuit.param\n",
    "* Minuit.get_initial_param_states(): use Minuit.init_param\n",
    "* Minuit.get_num_call_fcn(): use Minuit.ncalls_total\n",
    "* Minuit.get_num_call_grad(): use Minuit.ngrads_total\n",
    "* Minuit.hesse(maxcall=…) keyword: use ncall=… like in Minuit.migrad()\n",
    "* Minuit.edm: use Minuit.fmin.edm\n",
    "* Minuit.is_fixed: replaced by .fixed attribute\n",
    "* Minuit.set_strategy: assign to Minuit.strategy instead\n",
    "* Minuit.set_errordef: assign to Minuit.errordef instead\n",
    "* Minuit.set_print_level: assign to Minuit.print_level instead\n",
    "* Minuit.print_param_states, Minuit.print_initial_param_states, Minuit.print_fmin, Minuit.print_matrix, Minuit.print_param, Minuit.print_initial_param, Minuit.print_all_minos: use print() on the respective attributes instead"
   ]
  },
  {
   "cell_type": "markdown",
   "metadata": {},
   "source": [
    "### Why use iminuit and not X (X = RooFit, pyhf, zfit ...)?\n",
    "\n",
    "* If X works for you, good! No reason to change from X to iminuit\n",
    "* Learning iminuit is simple and it is universally applicable\n",
    "* Useful in teaching courses on fitting\n",
    "* Good enough for simple fits\n",
    "* Good for experts and power users who need full control over all aspects of the fit\n",
    "\n",
    "<table>\n",
    "    <tr>\n",
    "        <td> <img src=\"knife-1710292_640.png\" alt=\"Image by Sinisa Maric from Pixabay\"/>\n",
    "        </td>\n",
    "        <td>\n",
    "            <p> VS </p>\n",
    "        </td>\n",
    "        <td>\n",
    "<img src=\"chainsaw-4767465_640.png\"  alt=\"Image by Mostafa Elturkey from Pixabay\"/>\n",
    "        </td>\n",
    "    </tr></table>"
   ]
  },
  {
   "cell_type": "markdown",
   "metadata": {},
   "source": [
    "## iminuit and a simple fit\n",
    "\n",
    "A quick demo how to do a simple least-squares fit with iminuit."
   ]
  },
  {
   "cell_type": "code",
   "execution_count": 1,
   "metadata": {},
   "outputs": [],
   "source": [
    "import numpy as np\n",
    "from matplotlib import pyplot as plt\n",
    "from iminuit import Minuit"
   ]
  },
  {
   "cell_type": "code",
   "execution_count": 2,
   "metadata": {},
   "outputs": [
    {
     "data": {
      "image/png": "[encoded data removed]",
      "text/plain": [
       "<Figure size 432x288 with 1 Axes>"
      ]
     },
     "metadata": {
      "needs_background": "light"
     },
     "output_type": "display_data"
    }
   ],
   "source": [
    "# make 10 data points with scatter on y-coordinate\n",
    "\n",
    "rng = np.random.default_rng(1)\n",
    "\n",
    "x = np.linspace(0, 1, 10)\n",
    "ye = np.ones_like(x) * 0.2\n",
    "y = rng.normal(2 * x + 1, ye, size=len(x))\n",
    "\n",
    "plt.errorbar(x, y, ye, fmt=\"o\")\n",
    "plt.xlabel(\"x\")\n",
    "plt.ylabel(\"y\");"
   ]
  },
  {
   "cell_type": "markdown",
   "metadata": {},
   "source": [
    "To recover the parameters of the line, we need to write a model and a cost function. The model predicts a y value for an x value, using a set of parameters. The cost function must compute some kind of distance between the model predictions and the observations.\n",
    "\n",
    "Optimal for this case is the least-squares method, where the cost function is the sum of squared studentized residuals."
   ]
  },
  {
   "cell_type": "code",
   "execution_count": 3,
   "metadata": {},
   "outputs": [
    {
     "data": {
      "text/html": [
       "<table>\n",
       "<tr style=\"background-color:#F4F4F4;\"> <td/> <th title=\"Variable name\"> Name </th> <th title=\"Value of parameter\"> Value </th> <th title=\"Hesse error\"> Hesse Error </th> <th title=\"Minos lower error\"> Minos Error- </th> <th title=\"Minos upper error\"> Minos Error+ </th> <th title=\"Lower limit of the parameter\"> Limit- </th> <th title=\"Upper limit of the parameter\"> Limit+ </th> <th title=\"Is the parameter fixed in the fit\"> Fixed </th> </tr>\n",
       "<tr style=\"background-color:#FFFFFF;\"> <th> 0 </th> <td> a </td> <td> 0.0 </td> <td> 0.1 </td> <td>  </td> <td>  </td> <td>  </td> <td>  </td> <td>  </td> </tr>\n",
       "<tr style=\"background-color:#F4F4F4;\"> <th> 1 </th> <td> b </td> <td> 0.0 </td> <td> 0.1 </td> <td>  </td> <td>  </td> <td>  </td> <td>  </td> <td>  </td> </tr>\n",
       "</table>\n"
      ],
      "text/plain": [
       "------------------------------------------------------------------------------------------\n",
       "|   | Name |   Value   | Hesse Err | Minos Err- | Minos Err+ | Limit-  | Limit+  | Fixed |\n",
       "------------------------------------------------------------------------------------------\n",
       "| 0 | a    |    0.0    |    0.1    |            |            |         |         |       |\n",
       "| 1 | b    |    0.0    |    0.1    |            |            |         |         |       |\n",
       "------------------------------------------------------------------------------------------"
      ]
     },
     "execution_count": 3,
     "metadata": {},
     "output_type": "execute_result"
    }
   ],
   "source": [
    "# line model\n",
    "def model(x, a, b):\n",
    "    return a + b * x\n",
    "\n",
    "def cost(a, b):\n",
    "    ym = model(x, a, b)\n",
    "    res = (y - ym) / ye # studentized residuals\n",
    "    return np.sum(res ** 2)\n",
    "\n",
    "# initialize Minuit object by passing the cost function\n",
    "# - Minuit uses a local minimizer, we need to set starting values\n",
    "# - Minuit also needs an `errordef` parameter (more later)\n",
    "m = Minuit(cost, a=0, b=0, errordef=1)\n",
    "m.params"
   ]
  },
  {
   "cell_type": "markdown",
   "metadata": {},
   "source": [
    "Note: Minuit detected that the cost function has two parameters named `a` and `b`.\n",
    "\n",
    "The Minuit object represents the current state of the fit. The initial state consists of the starting values and some step sizes (here 0.1) for the numerical gradient computation. You can set the step sizes yourself, with `error_a=...` etc, but a good default is selected for you if you do not.\n",
    "\n",
    "Minuit makes it easy to interact with the fitter, which is useful for debugging and to manually help the minimizer to find the minimum. It also presents useful diagnostics that indicate if something went wrong."
   ]
  },
  {
   "cell_type": "code",
   "execution_count": 4,
   "metadata": {},
   "outputs": [
    {
     "data": {
      "text/html": [
       "<table>\n",
       "<tr> <td colspan=\"2\" style=\"text-align:center\" title=\"Minimum value of function\"> FCN = 3.959 </td> <td colspan=\"3\" title=\"No. of calls in last algorithm and total number of calls\"> Ncalls = 34 (34 total) </td> </tr>\n",
       "<tr> <td colspan=\"2\" style=\"text-align:center\" title=\"Estimated distance to minimum and target threshold\"> EDM = 1.09e-22 (Goal: 0.0002) </td> <td colspan=\"3\" title=\"Increase in FCN which corresponds to 1 standard deviation\"> up = 1.0 </td> </tr>\n",
       "<tr> <td title=\"Validity of the migrad call\"> Valid Min. </td> <td title=\"Validity of parameters\"> Valid Param. </td> <td title=\"Is EDM above goal EDM?\"> Above EDM </td> <td colspan=\"2\" title=\"Did last migrad call reach max call limit?\"> Reached call limit </td> </tr>\n",
       "<tr> <td style=\"background-color:#92CCA6;\"> True </td> <td style=\"background-color:#92CCA6;\"> True </td> <td style=\"background-color:#92CCA6;\"> False </td> <td colspan=\"2\" style=\"background-color:#92CCA6;\"> False </td> </tr>\n",
       "<tr> <td title=\"Did Hesse fail?\"> Hesse failed </td> <td title=\"Has covariance matrix\"> Has cov. </td> <td title=\"Is covariance matrix accurate?\"> Accurate </td> <td title=\"Is covariance matrix positive definite?\"> Pos. def. </td> <td title=\"Was positive definiteness enforced by Minuit?\"> Forced </td> </tr>\n",
       "<tr> <td style=\"background-color:#92CCA6;\"> False </td> <td style=\"background-color:#92CCA6;\"> True </td> <td style=\"background-color:#92CCA6;\"> True </td> <td style=\"background-color:#92CCA6;\"> True </td> <td style=\"background-color:#92CCA6;\"> False </td> </tr>\n",
       "</table>\n",
       "<table>\n",
       "<tr style=\"background-color:#F4F4F4;\"> <td/> <th title=\"Variable name\"> Name </th> <th title=\"Value of parameter\"> Value </th> <th title=\"Hesse error\"> Hesse Error </th> <th title=\"Minos lower error\"> Minos Error- </th> <th title=\"Minos upper error\"> Minos Error+ </th> <th title=\"Lower limit of the parameter\"> Limit- </th> <th title=\"Upper limit of the parameter\"> Limit+ </th> <th title=\"Is the parameter fixed in the fit\"> Fixed </th> </tr>\n",
       "<tr style=\"background-color:#FFFFFF;\"> <th> 0 </th> <td> a </td> <td> 1.05 </td> <td> 0.12 </td> <td>  </td> <td>  </td> <td>  </td> <td>  </td> <td>  </td> </tr>\n",
       "<tr style=\"background-color:#F4F4F4;\"> <th> 1 </th> <td> b </td> <td> 1.99 </td> <td> 0.20 </td> <td>  </td> <td>  </td> <td>  </td> <td>  </td> <td>  </td> </tr>\n",
       "</table>\n"
      ],
      "text/plain": [
       "------------------------------------------------------------------\n",
       "| FCN = 3.959                   |      Ncalls=34 (34 total)      |\n",
       "| EDM = 1.09e-22 (Goal: 0.0002) |            up = 1.0            |\n",
       "------------------------------------------------------------------\n",
       "|  Valid Min.   | Valid Param.  | Above EDM | Reached call limit |\n",
       "------------------------------------------------------------------\n",
       "|     True      |     True      |   False   |       False        |\n",
       "------------------------------------------------------------------\n",
       "| Hesse failed  |   Has cov.    | Accurate  | Pos. def. | Forced |\n",
       "------------------------------------------------------------------\n",
       "|     False     |     True      |   True    |   True    | False  |\n",
       "------------------------------------------------------------------\n",
       "------------------------------------------------------------------------------------------\n",
       "|   | Name |   Value   | Hesse Err | Minos Err- | Minos Err+ | Limit-  | Limit+  | Fixed |\n",
       "------------------------------------------------------------------------------------------\n",
       "| 0 | a    |   1.05    |   0.12    |            |            |         |         |       |\n",
       "| 1 | b    |   1.99    |   0.20    |            |            |         |         |       |\n",
       "------------------------------------------------------------------------------------------"
      ]
     },
     "execution_count": 4,
     "metadata": {},
     "output_type": "execute_result"
    }
   ],
   "source": [
    "# calling Migrad minimizer \n",
    "m.migrad()"
   ]
  },
  {
   "cell_type": "markdown",
   "metadata": {},
   "source": [
    "Values and errors are rounded according to the **PDG rounding rules**."
   ]
  },
  {
   "cell_type": "markdown",
   "metadata": {},
   "source": [
    "The \"Hesse Errors\" now show estimated uncertainties of the parameters. *Migrad* computes these mostly for free as part of its minimization process.\n",
    "\n",
    "Things to note:\n",
    "- **EDM**: estimated distance to minimum, must be smaller than \"Goal\"; shows that Migrad converged\n",
    "- **Ncalls**: How many function calls were used by Migrad (and the total by this Minuit object so far)\n",
    "- **Pos. def.**: Whether the Hessian matrix (matrix of second derivatives) is positive definite; it must be for a valid minimum\n",
    "\n",
    "You can get the values from the `Minuit.fmin` attribute."
   ]
  },
  {
   "cell_type": "code",
   "execution_count": 5,
   "metadata": {},
   "outputs": [
    {
     "data": {
      "image/png": "[encoded data removed]",
      "text/plain": [
       "<Figure size 432x288 with 1 Axes>"
      ]
     },
     "metadata": {
      "needs_background": "light"
     },
     "output_type": "display_data"
    }
   ],
   "source": [
    "plt.errorbar(x, y, ye, fmt=\"o\")\n",
    "plt.xlabel(\"x\")\n",
    "plt.ylabel(\"y\")\n",
    "plt.plot(x, model(x, *m.values[:]), color=\"k\"); # trick to access values as a tuple"
   ]
  },
  {
   "cell_type": "code",
   "execution_count": 6,
   "metadata": {},
   "outputs": [
    {
     "name": "stdout",
     "output_type": "stream",
     "text": [
      "FMin(fval=3.9594362732650183, edm=1.0859678150194733e-22, tolerance=0.1, nfcn=34, ncalls=34, up=1.0, is_valid=True, has_valid_parameters=True, has_accurate_covar=True, has_posdef_covar=True, has_made_posdef_covar=False, hesse_failed=False, has_covariance=True, is_above_max_edm=False, has_reached_call_limit=False)\n"
     ]
    }
   ],
   "source": [
    "print(repr(m.fmin)) # repr() disables the usual pretty printing"
   ]
  },
  {
   "cell_type": "markdown",
   "metadata": {},
   "source": [
    "\"Minos Errors\" are not automatically computed. You need to run *Minos* explicitly."
   ]
  },
  {
   "cell_type": "code",
   "execution_count": 7,
   "metadata": {},
   "outputs": [
    {
     "data": {
      "text/html": [
       "<table>\n",
       "<tr> <td/> <th colspan=\"2\" style=\"text-align:center\" title=\"Parameter name\"> a </th> <th colspan=\"2\" style=\"text-align:center\" title=\"Parameter name\"> b </th> </tr>\n",
       "<tr> <th title=\"Lower and upper minos error of the parameter\"> Error </th> <td> -0.12 </td> <td> 0.12 </td> <td> -0.2 </td> <td> 0.2 </td> </tr>\n",
       "<tr> <th title=\"Validity of lower/upper minos error\"> Valid </th> <td style=\"background-color:#92CCA6;\"> True </td> <td style=\"background-color:#92CCA6;\"> True </td> <td style=\"background-color:#92CCA6;\"> True </td> <td style=\"background-color:#92CCA6;\"> True </td> </tr>\n",
       "<tr> <th title=\"Did scan hit limit of any parameter?\"> At Limit </th> <td style=\"background-color:#92CCA6;\"> False </td> <td style=\"background-color:#92CCA6;\"> False </td> <td style=\"background-color:#92CCA6;\"> False </td> <td style=\"background-color:#92CCA6;\"> False </td> </tr>\n",
       "<tr> <th title=\"Did scan hit function call limit?\"> Max FCN </th> <td style=\"background-color:#92CCA6;\"> False </td> <td style=\"background-color:#92CCA6;\"> False </td> <td style=\"background-color:#92CCA6;\"> False </td> <td style=\"background-color:#92CCA6;\"> False </td> </tr>\n",
       "<tr> <th title=\"New minimum found when doing scan?\"> New Min </th> <td style=\"background-color:#92CCA6;\"> False </td> <td style=\"background-color:#92CCA6;\"> False </td> <td style=\"background-color:#92CCA6;\"> False </td> <td style=\"background-color:#92CCA6;\"> False </td> </tr>\n",
       "</table>\n"
      ],
      "text/plain": [
       "------------------------------------------------------------\n",
       "|          |           a           |           b           |\n",
       "------------------------------------------------------------\n",
       "|  Error   |   -0.12   |   0.12    |   -0.2    |    0.2    |\n",
       "|  Valid   |   True    |   True    |   True    |   True    |\n",
       "| At Limit |   False   |   False   |   False   |   False   |\n",
       "| Max FCN  |   False   |   False   |   False   |   False   |\n",
       "| New Min  |   False   |   False   |   False   |   False   |\n",
       "------------------------------------------------------------"
      ]
     },
     "execution_count": 7,
     "metadata": {},
     "output_type": "execute_result"
    }
   ],
   "source": [
    "m.minos()"
   ]
  },
  {
   "cell_type": "markdown",
   "metadata": {},
   "source": [
    "In such a simple fit, the Minos and Hesse uncertainty estimates are equal, but in non-parabolic cost functions they are not.\n",
    "\n",
    "The Minos and Hesse uncertaintes are now nicely comparable in the parameter display:"
   ]
  },
  {
   "cell_type": "code",
   "execution_count": 8,
   "metadata": {},
   "outputs": [
    {
     "data": {
      "text/html": [
       "<table>\n",
       "<tr style=\"background-color:#F4F4F4;\"> <td/> <th title=\"Variable name\"> Name </th> <th title=\"Value of parameter\"> Value </th> <th title=\"Hesse error\"> Hesse Error </th> <th title=\"Minos lower error\"> Minos Error- </th> <th title=\"Minos upper error\"> Minos Error+ </th> <th title=\"Lower limit of the parameter\"> Limit- </th> <th title=\"Upper limit of the parameter\"> Limit+ </th> <th title=\"Is the parameter fixed in the fit\"> Fixed </th> </tr>\n",
       "<tr style=\"background-color:#FFFFFF;\"> <th> 0 </th> <td> a </td> <td> 1.05 </td> <td> 0.12 </td> <td> -0.12 </td> <td> 0.12 </td> <td>  </td> <td>  </td> <td>  </td> </tr>\n",
       "<tr style=\"background-color:#F4F4F4;\"> <th> 1 </th> <td> b </td> <td> 1.99 </td> <td> 0.20 </td> <td> -0.20 </td> <td> 0.20 </td> <td>  </td> <td>  </td> <td>  </td> </tr>\n",
       "</table>\n"
      ],
      "text/plain": [
       "------------------------------------------------------------------------------------------\n",
       "|   | Name |   Value   | Hesse Err | Minos Err- | Minos Err+ | Limit-  | Limit+  | Fixed |\n",
       "------------------------------------------------------------------------------------------\n",
       "| 0 | a    |   1.05    |   0.12    |   -0.12    |    0.12    |         |         |       |\n",
       "| 1 | b    |   1.99    |   0.20    |   -0.20    |    0.20    |         |         |       |\n",
       "------------------------------------------------------------------------------------------"
      ]
     },
     "execution_count": 8,
     "metadata": {},
     "output_type": "execute_result"
    }
   ],
   "source": [
    "m.params"
   ]
  },
  {
   "cell_type": "markdown",
   "metadata": {},
   "source": [
    "The Minos uncertainties can be read-out with the following attribute (read-only)."
   ]
  },
  {
   "cell_type": "code",
   "execution_count": 9,
   "metadata": {},
   "outputs": [
    {
     "name": "stdout",
     "output_type": "stream",
     "text": [
      "Did Minos work for parameter a? True\n",
      "lower error=-0.118 upper error=0.118\n"
     ]
    }
   ],
   "source": [
    "a_me = m.merrors[\"a\"] # returns a data struct with many fields\n",
    "print(f\"Did Minos work for parameter {a_me.name}? {a_me.is_valid}\\n\"\n",
    "      f\"lower error={a_me.lower:.3} upper error={a_me.upper:.3}\")"
   ]
  },
  {
   "cell_type": "markdown",
   "metadata": {},
   "source": [
    "Much more information can be pulled from this object. Try `dir(a_me)`."
   ]
  },
  {
   "cell_type": "markdown",
   "metadata": {},
   "source": [
    "## Interactively manipulate fit state"
   ]
  },
  {
   "cell_type": "markdown",
   "metadata": {},
   "source": [
    "Let's mess around. Let's say we know that `a = 1`, what is the value of `b` then? We can fix `a` and set its value, and then run *Migrad* again.\n",
    "\n",
    "We can manipulate Minuit with the attributes `m.values`, `m.fixed`, and `m.errors` (to set different step sizes)."
   ]
  },
  {
   "cell_type": "code",
   "execution_count": 10,
   "metadata": {},
   "outputs": [
    {
     "data": {
      "text/html": [
       "<table>\n",
       "<tr> <td colspan=\"2\" style=\"text-align:center\" title=\"Minimum value of function\"> FCN = 4.127 </td> <td colspan=\"3\" title=\"No. of calls in last algorithm and total number of calls\"> Ncalls = 8 (66 total) </td> </tr>\n",
       "<tr> <td colspan=\"2\" style=\"text-align:center\" title=\"Estimated distance to minimum and target threshold\"> EDM = 1.51e-20 (Goal: 0.0002) </td> <td colspan=\"3\" title=\"Increase in FCN which corresponds to 1 standard deviation\"> up = 1.0 </td> </tr>\n",
       "<tr> <td title=\"Validity of the migrad call\"> Valid Min. </td> <td title=\"Validity of parameters\"> Valid Param. </td> <td title=\"Is EDM above goal EDM?\"> Above EDM </td> <td colspan=\"2\" title=\"Did last migrad call reach max call limit?\"> Reached call limit </td> </tr>\n",
       "<tr> <td style=\"background-color:#92CCA6;\"> True </td> <td style=\"background-color:#92CCA6;\"> True </td> <td style=\"background-color:#92CCA6;\"> False </td> <td colspan=\"2\" style=\"background-color:#92CCA6;\"> False </td> </tr>\n",
       "<tr> <td title=\"Did Hesse fail?\"> Hesse failed </td> <td title=\"Has covariance matrix\"> Has cov. </td> <td title=\"Is covariance matrix accurate?\"> Accurate </td> <td title=\"Is covariance matrix positive definite?\"> Pos. def. </td> <td title=\"Was positive definiteness enforced by Minuit?\"> Forced </td> </tr>\n",
       "<tr> <td style=\"background-color:#92CCA6;\"> False </td> <td style=\"background-color:#92CCA6;\"> True </td> <td style=\"background-color:#92CCA6;\"> True </td> <td style=\"background-color:#92CCA6;\"> True </td> <td style=\"background-color:#92CCA6;\"> False </td> </tr>\n",
       "</table>\n",
       "<table>\n",
       "<tr style=\"background-color:#F4F4F4;\"> <td/> <th title=\"Variable name\"> Name </th> <th title=\"Value of parameter\"> Value </th> <th title=\"Hesse error\"> Hesse Error </th> <th title=\"Minos lower error\"> Minos Error- </th> <th title=\"Minos upper error\"> Minos Error+ </th> <th title=\"Lower limit of the parameter\"> Limit- </th> <th title=\"Upper limit of the parameter\"> Limit+ </th> <th title=\"Is the parameter fixed in the fit\"> Fixed </th> </tr>\n",
       "<tr style=\"background-color:#FFFFFF;\"> <th> 0 </th> <td> a </td> <td> 1.00 </td> <td> 0.12 </td> <td> -0.12 </td> <td> 0.12 </td> <td>  </td> <td>  </td> <td> yes </td> </tr>\n",
       "<tr style=\"background-color:#F4F4F4;\"> <th> 1 </th> <td> b </td> <td> 2.06 </td> <td> 0.11 </td> <td> -0.20 </td> <td> 0.20 </td> <td>  </td> <td>  </td> <td>  </td> </tr>\n",
       "</table>\n"
      ],
      "text/plain": [
       "------------------------------------------------------------------\n",
       "| FCN = 4.127                   |      Ncalls=8 (66 total)       |\n",
       "| EDM = 1.51e-20 (Goal: 0.0002) |            up = 1.0            |\n",
       "------------------------------------------------------------------\n",
       "|  Valid Min.   | Valid Param.  | Above EDM | Reached call limit |\n",
       "------------------------------------------------------------------\n",
       "|     True      |     True      |   False   |       False        |\n",
       "------------------------------------------------------------------\n",
       "| Hesse failed  |   Has cov.    | Accurate  | Pos. def. | Forced |\n",
       "------------------------------------------------------------------\n",
       "|     False     |     True      |   True    |   True    | False  |\n",
       "------------------------------------------------------------------\n",
       "------------------------------------------------------------------------------------------\n",
       "|   | Name |   Value   | Hesse Err | Minos Err- | Minos Err+ | Limit-  | Limit+  | Fixed |\n",
       "------------------------------------------------------------------------------------------\n",
       "| 0 | a    |   1.00    |   0.12    |   -0.12    |    0.12    |         |         |  yes  |\n",
       "| 1 | b    |   2.06    |   0.11    |   -0.20    |    0.20    |         |         |       |\n",
       "------------------------------------------------------------------------------------------"
      ]
     },
     "execution_count": 10,
     "metadata": {},
     "output_type": "execute_result"
    }
   ],
   "source": [
    "m.values[\"a\"] = 1\n",
    "m.fixed[\"a\"] = True\n",
    "m.migrad()"
   ]
  },
  {
   "cell_type": "markdown",
   "metadata": {},
   "source": [
    "This took Minuit only 8 calls, because it was already close to the minimum and because it could *reuse information from the previous minimization*. This is another **key feature** of Minuit and iminuit.\n",
    "\n",
    "The value and error of `b` changed a bit. Let's see how `b` varies when we scan over `a`."
   ]
  },
  {
   "cell_type": "code",
   "execution_count": 11,
   "metadata": {},
   "outputs": [
    {
     "data": {
      "image/png": "[encoded data removed]",
      "text/plain": [
       "<Figure size 432x288 with 2 Axes>"
      ]
     },
     "metadata": {
      "needs_background": "light"
     },
     "output_type": "display_data"
    }
   ],
   "source": [
    "a = np.linspace(0.5, 1.5, 20)\n",
    "b = []\n",
    "be = []\n",
    "fval = []\n",
    "for ai in a:\n",
    "    m.values[\"a\"] = ai\n",
    "    m.migrad()\n",
    "    assert m.valid # assert that fit is valid\n",
    "    fval.append(m.fval) # get value of cost function\n",
    "    b.append(m.values[\"b\"])\n",
    "    be.append(m.errors[\"b\"])\n",
    "\n",
    "# values and uncertainty of b as a function of a, also shown is the function minimum\n",
    "plt.errorbar(a, b, be, fmt=\"o\", color=\"C0\")\n",
    "plt.twinx()\n",
    "plt.plot(a, fval, color=\"C1\");"
   ]
  },
  {
   "cell_type": "markdown",
   "metadata": {},
   "source": [
    "The uncertainty estimate does not change, because the cost function has a constant second derivative, and Minuit uses the second derivative by default to estimate the uncertainty (\"Hesse method\").\n",
    "\n",
    "Let's see how the corresponding lines look like. "
   ]
  },
  {
   "cell_type": "code",
   "execution_count": 12,
   "metadata": {},
   "outputs": [
    {
     "data": {
      "image/png": "[encoded data removed]",
      "text/plain": [
       "<Figure size 432x288 with 1 Axes>"
      ]
     },
     "metadata": {
      "needs_background": "light"
     },
     "output_type": "display_data"
    }
   ],
   "source": [
    "plt.errorbar(x, y, ye, fmt=\"o\")\n",
    "for i, (ai, bi) in enumerate(zip(a, b)):\n",
    "    plt.plot(x, model(x, ai, bi), color=f\"{i / 30.}\")"
   ]
  },
  {
   "cell_type": "markdown",
   "metadata": {},
   "source": [
    "**Mechanical analog**: **stiff rod** attached to the data points with **springs** of constant tension. If both `a` and `b` are minimized, Migrad finds the minimum energy configuration. This is also true, if `a` is externally constrained to other values (fixed during minimization)."
   ]
  },
  {
   "cell_type": "markdown",
   "metadata": {},
   "source": [
    "## Cost functions\n",
    "\n",
    "Minuit now comes with builtin cost functions, which can be imported from `iminuit.cost`. Currently available:\n",
    "\n",
    "- Unbinned negative log-likelihood\n",
    "- Extended unbinned negative log-likelihood\n",
    "- Binned negative log-likelihood\n",
    "- Extended binned negative log-likelihood\n",
    "- Least-squares\n",
    "- Robust least-squares\n",
    "\n",
    "The `errordef` parameter is automatically set correctly for these.\n",
    "\n",
    "As a particle physicist, you will often fit some peak over background. Let's do that."
   ]
  },
  {
   "cell_type": "code",
   "execution_count": 13,
   "metadata": {},
   "outputs": [
    {
     "data": {
      "image/png": "[encoded data removed]",
      "text/plain": [
       "<Figure size 432x288 with 1 Axes>"
      ]
     },
     "metadata": {
      "needs_background": "light"
     },
     "output_type": "display_data"
    }
   ],
   "source": [
    "from scipy import stats\n",
    "\n",
    "rng = np.random.default_rng(1)\n",
    "\n",
    "x = np.append(stats.norm(0.5, 0.05).rvs(size=500, random_state=rng),\n",
    "              stats.expon(0.0, 0.5).rvs(size=1000, random_state=rng))\n",
    "\n",
    "plt.hist(x, bins=30, range=(0, 1));"
   ]
  },
  {
   "cell_type": "code",
   "execution_count": 14,
   "metadata": {
    "scrolled": true
   },
   "outputs": [
    {
     "data": {
      "text/html": [
       "<table>\n",
       "<tr> <td colspan=\"2\" style=\"text-align:center\" title=\"Minimum value of function\"> FCN = 4351 </td> <td colspan=\"3\" title=\"No. of calls in last algorithm and total number of calls\"> Ncalls = 106 (117 total) </td> </tr>\n",
       "<tr> <td colspan=\"2\" style=\"text-align:center\" title=\"Estimated distance to minimum and target threshold\"> EDM = 5.04e+03 (Goal: 0.0001) </td> <td colspan=\"3\" title=\"Increase in FCN which corresponds to 1 standard deviation\"> up = 0.5 </td> </tr>\n",
       "<tr> <td title=\"Validity of the migrad call\"> Valid Min. </td> <td title=\"Validity of parameters\"> Valid Param. </td> <td title=\"Is EDM above goal EDM?\"> Above EDM </td> <td colspan=\"2\" title=\"Did last migrad call reach max call limit?\"> Reached call limit </td> </tr>\n",
       "<tr> <td style=\"background-color:#FF7878;\"> False </td> <td style=\"background-color:#92CCA6;\"> True </td> <td style=\"background-color:#FF7878;\"> True </td> <td colspan=\"2\" style=\"background-color:#92CCA6;\"> False </td> </tr>\n",
       "<tr> <td title=\"Did Hesse fail?\"> Hesse failed </td> <td title=\"Has covariance matrix\"> Has cov. </td> <td title=\"Is covariance matrix accurate?\"> Accurate </td> <td title=\"Is covariance matrix positive definite?\"> Pos. def. </td> <td title=\"Was positive definiteness enforced by Minuit?\"> Forced </td> </tr>\n",
       "<tr> <td style=\"background-color:#92CCA6;\"> False </td> <td style=\"background-color:#92CCA6;\"> True </td> <td style=\"background-color:#FF7878;\"> False </td> <td style=\"background-color:#FF7878;\"> False </td> <td style=\"background-color:#FF7878;\"> True </td> </tr>\n",
       "</table>\n",
       "<table>\n",
       "<tr style=\"background-color:#F4F4F4;\"> <td/> <th title=\"Variable name\"> Name </th> <th title=\"Value of parameter\"> Value </th> <th title=\"Hesse error\"> Hesse Error </th> <th title=\"Minos lower error\"> Minos Error- </th> <th title=\"Minos upper error\"> Minos Error+ </th> <th title=\"Lower limit of the parameter\"> Limit- </th> <th title=\"Upper limit of the parameter\"> Limit+ </th> <th title=\"Is the parameter fixed in the fit\"> Fixed </th> </tr>\n",
       "<tr style=\"background-color:#FFFFFF;\"> <th> 0 </th> <td> ns </td> <td> 1.0 </td> <td> 0.5 </td> <td>  </td> <td>  </td> <td>  </td> <td>  </td> <td>  </td> </tr>\n",
       "<tr style=\"background-color:#F4F4F4;\"> <th> 1 </th> <td> mu </td> <td> 1.0 </td> <td> 0.4 </td> <td>  </td> <td>  </td> <td>  </td> <td>  </td> <td>  </td> </tr>\n",
       "<tr style=\"background-color:#FFFFFF;\"> <th> 2 </th> <td> sigma </td> <td> 0.55 </td> <td> 0.13 </td> <td>  </td> <td>  </td> <td>  </td> <td>  </td> <td>  </td> </tr>\n",
       "<tr style=\"background-color:#F4F4F4;\"> <th> 3 </th> <td> nb </td> <td> 1.0 </td> <td> 0.2 </td> <td>  </td> <td>  </td> <td>  </td> <td>  </td> <td>  </td> </tr>\n",
       "<tr style=\"background-color:#FFFFFF;\"> <th> 4 </th> <td> lambd </td> <td> 0.6 </td> <td> 0.5 </td> <td>  </td> <td>  </td> <td>  </td> <td>  </td> <td>  </td> </tr>\n",
       "</table>\n"
      ],
      "text/plain": [
       "------------------------------------------------------------------\n",
       "| FCN = 4351                    |     Ncalls=106 (117 total)     |\n",
       "| EDM = 5.04e+03 (Goal: 0.0001) |            up = 0.5            |\n",
       "------------------------------------------------------------------\n",
       "|  Valid Min.   | Valid Param.  | Above EDM | Reached call limit |\n",
       "------------------------------------------------------------------\n",
       "|     False     |     True      |   True    |       False        |\n",
       "------------------------------------------------------------------\n",
       "| Hesse failed  |   Has cov.    | Accurate  | Pos. def. | Forced |\n",
       "------------------------------------------------------------------\n",
       "|     False     |     True      |   False   |   False   |  True  |\n",
       "------------------------------------------------------------------\n",
       "-------------------------------------------------------------------------------------------\n",
       "|   | Name  |   Value   | Hesse Err | Minos Err- | Minos Err+ | Limit-  | Limit+  | Fixed |\n",
       "-------------------------------------------------------------------------------------------\n",
       "| 0 | ns    |    1.0    |    0.5    |            |            |         |         |       |\n",
       "| 1 | mu    |    1.0    |    0.4    |            |            |         |         |       |\n",
       "| 2 | sigma |   0.55    |   0.13    |            |            |         |         |       |\n",
       "| 3 | nb    |    1.0    |    0.2    |            |            |         |         |       |\n",
       "| 4 | lambd |    0.6    |    0.5    |            |            |         |         |       |\n",
       "-------------------------------------------------------------------------------------------"
      ]
     },
     "execution_count": 14,
     "metadata": {},
     "output_type": "execute_result"
    }
   ],
   "source": [
    "# extended binned maximum likelihood fit\n",
    "from iminuit.cost import ExtendedBinnedNLL\n",
    "\n",
    "n, xe = np.histogram(x, bins=30, range=(0, 1)) # or use boost_histogram here!\n",
    "\n",
    "\n",
    "# ExtendedBinnedNLL wants a model that returns the expected counts per bin\n",
    "\n",
    "def signal(xe, ns, mu, sigma):\n",
    "    return ns * stats.norm(mu, sigma).cdf(xe)\n",
    "\n",
    "\n",
    "def background(xe, nb, lambd):\n",
    "    return nb * stats.expon(0.0, lambd).cdf(xe)\n",
    "\n",
    "\n",
    "def total(xe, ns, mu, sigma, nb, lambd):\n",
    "    return signal(xe, ns, mu, sigma) + background(xe, nb, lambd)\n",
    "\n",
    "cost = ExtendedBinnedNLL(n, xe, total)\n",
    "\n",
    "m = Minuit(cost, ns=1, mu=1, sigma=1, nb=1, lambd=1)\n",
    "m.migrad()"
   ]
  },
  {
   "cell_type": "markdown",
   "metadata": {},
   "source": [
    "Uh oh, this does not look good. Let's do this again in verbose mode."
   ]
  },
  {
   "cell_type": "code",
   "execution_count": 15,
   "metadata": {},
   "outputs": [
    {
     "name": "stdout",
     "output_type": "stream",
     "text": [
      "(1.0, 1.0, 1.0, 1.0, 1.0) -> 4674.964736477243\n",
      "(1.0004721689651892, 1.0, 1.0, 1.0, 1.0) -> 4674.747479989268\n",
      "(0.9995278310348108, 1.0, 1.0, 1.0, 1.0) -> 4675.182029100815\n",
      "(1.0037087473289117, 1.0, 1.0, 1.0, 1.0) -> 4673.259222937664\n",
      "(0.9962912526710882, 1.0, 1.0, 1.0, 1.0) -> 4676.672479454253\n",
      "(1.0, 1.0004721689651892, 1.0, 1.0, 1.0) -> 4675.082012794044\n",
      "(1.0, 0.9995278310348108, 1.0, 1.0, 1.0) -> 4674.847538457714\n",
      "(1.0, 1.0025195417256905, 1.0, 1.0, 1.0) -> 4675.591439464525\n",
      "(1.0, 0.9974804582743095, 1.0, 1.0, 1.0) -> 4674.340262923246\n",
      "(1.0, 1.0, 1.0004721689651892, 1.0, 1.0) -> 4675.108461158805\n",
      "(1.0, 1.0, 0.9995278310348108, 1.0, 1.0) -> 4674.820982318544\n",
      "(1.0, 1.0, 1.0041063146339098, 1.0, 1.0) -> 4676.2136721107645\n",
      "(1.0, 1.0, 0.9958936853660902, 1.0, 1.0) -> 4673.713571570834\n",
      "(1.0, 1.0, 1.0, 1.0004721689651892, 1.0) -> 4674.532834946704\n",
      "(1.0, 1.0, 1.0, 0.9995278310348108, 1.0) -> 4675.3967755808835\n",
      "(1.0, 1.0, 1.0, 1.001900763621876, 1.0) -> 4673.2269103671\n",
      "(1.0, 1.0, 1.0, 0.998099236378124, 1.0) -> 4676.704792024484\n",
      "(1.0, 1.0, 1.0, 1.0, 1.0004721689651892) -> 4675.230740501793\n",
      "(1.0, 1.0, 1.0, 1.0, 0.9995278310348108) -> 4674.6986609070855\n",
      "(1.0, 1.0, 1.0, 1.0, 1.0026357449497056) -> 4676.448710524963\n",
      "(1.0, 1.0, 1.0, 1.0, 0.9973642550502942) -> 4673.478533005953\n",
      "(1.0, 1.0, 0.9958936853660902, 1.0, 1.0) -> 4673.713571570834\n",
      "(1.0, 1.0, 0.9794684268304512, 1.0, 1.0) -> 4668.687788287826\n",
      "(1.0, 1.0, 0.9384052804913535, 1.0, 1.0) -> 4655.999021917714\n",
      "(1.0, 1.0, 0.8152158414740606, 1.0, 1.0) -> 4617.747455906111\n",
      "(1.0, 1.0, 0.4456475244221817, 1.0, 1.0) -> 4580.859682709635\n",
      "(1.0, 1.0, 0.5137150129086776, 1.0, 1.0) -> 4563.82573900133\n",
      "(1.0, 1.0, 0.5874484732019645, 1.0, 1.0) -> 4564.126392536502\n",
      "(1.0, 1.0, 0.5494450164593476, 1.0, 1.0) -> 4562.090551203665\n",
      "(1.0036637038367755, 1.0, 0.5494450164593476, 1.0, 1.0) -> 4560.200497718858\n",
      "(0.9963362961632245, 1.0, 0.5494450164593476, 1.0, 1.0) -> 4563.983565611905\n",
      "(1.0, 1.002488943851375, 0.5494450164593476, 1.0, 1.0) -> 4564.255266810877\n",
      "(1.0, 0.9975110561486249, 0.5494450164593476, 1.0, 1.0) -> 4559.929472257163\n",
      "(1.0, 1.0, 0.5535016088329827, 1.0, 1.0) -> 4562.135477405995\n",
      "(1.0, 1.0, 0.5453884240857125, 1.0, 1.0) -> 4562.091244256899\n",
      "(1.0, 1.0, 0.5503309029222405, 1.0, 1.0) -> 4562.096515707349\n",
      "(1.0, 1.0, 0.5485591299964547, 1.0, 1.0) -> 4562.086762188794\n",
      "(1.0, 1.0, 0.5494450164593476, 1.0018776786774248, 1.0) -> 4560.479344337338\n",
      "(1.0, 1.0, 0.5494450164593476, 0.9981223213225751, 1.0) -> 4563.703743308258\n",
      "(1.0, 1.0, 0.5494450164593476, 1.0, 1.0026037414694076) -> 4563.519650839014\n",
      "(1.0, 1.0, 0.5494450164593476, 1.0, 0.9973962585305924) -> 4560.659130785849\n",
      "(1.0, 1.0, 0.5494450164593476, 1.0, 0.9973962585305924) -> 4560.659130785849\n",
      "(1.0, 1.0, 0.5494450164593476, 1.0, 0.9869812926529622) -> 4554.910259878616\n",
      "(1.0, 1.0, 0.5494450164593476, 1.0, 0.9609438779588867) -> 4540.376251333627\n",
      "(1.0, 1.0, 0.5494450164593476, 1.0, 0.8828316338766602) -> 4495.413838360195\n",
      "(1.0, 1.0, 0.5494450164593476, 1.0, 0.6484949016299804) -> 4351.069350631338\n",
      "(1.0, 1.0, 0.5494450164593476, 1.0, -0.054515295110058704) -> nan\n",
      "(nan, nan, nan, nan, nan) -> nan\n",
      "(nan, nan, nan, nan, nan) -> nan\n",
      "(nan, nan, nan, nan, nan) -> nan\n",
      "(nan, nan, nan, nan, nan) -> nan\n",
      "(nan, nan, nan, nan, nan) -> nan\n",
      "(1.0030670068127157, 1.0, 0.5494450164593476, 1.0, 0.6484949016299804) -> 4349.650048427409\n",
      "(0.9969329931872843, 1.0, 0.5494450164593476, 1.0, 0.6484949016299804) -> 4352.490416381839\n",
      "(1.0, 1.001880059906998, 0.5494450164593476, 1.0, 0.6484949016299804) -> 4352.484827719281\n",
      "(1.0, 0.9981199400930022, 0.5494450164593476, 1.0, 0.6484949016299804) -> 4349.65580502589\n",
      "(1.0, 1.0, 0.5503101987837744, 1.0, 0.6484949016299804) -> 4351.120385981633\n",
      "(1.0, 1.0, 0.5485798341349208, 1.0, 0.6484949016299804) -> 4351.019998685358\n",
      "(1.0, 1.0, 0.5494450164593476, 1.0019196539019368, 0.6484949016299804) -> 4349.320380512302\n",
      "(1.0, 1.0, 0.5494450164593476, 0.9980803460980631, 0.6484949016299804) -> 4352.82066610135\n",
      "(1.0, 1.0, 0.5494450164593476, 1.0, 0.6509569048797456) -> 4352.6151864718095\n",
      "(1.0, 1.0, 0.5494450164593476, 1.0, 0.6460328983802152) -> 4349.524230388504\n",
      "(1.0, 1.0, 0.5494450164593476, 1.0, 0.6526872958388353) -> 4353.702053535972\n",
      "(1.0, 1.0, 0.5494450164593476, 1.0, 0.6443025074211254) -> 4348.43872332317\n",
      "(3.4698604520405016, -0.3768522769030831, 0.5236480900797368, 2.4324800341458888, -4.667074736776749) -> nan\n",
      "(nan, nan, nan, nan, nan) -> nan\n",
      "(nan, nan, nan, nan, nan) -> nan\n",
      "(nan, nan, nan, nan, nan) -> nan\n",
      "(nan, nan, nan, nan, nan) -> nan\n",
      "(nan, nan, nan, nan, nan) -> nan\n",
      "(nan, nan, nan, nan, nan) -> nan\n",
      "(nan, nan, nan, nan, nan) -> nan\n",
      "(nan, nan, nan, nan, nan) -> nan\n",
      "(nan, nan, nan, nan, nan) -> nan\n",
      "(nan, nan, nan, nan, nan) -> nan\n",
      "(1.0, 1.0, 0.5494450164593476, 1.0, 0.6484949016299804) -> 4351.069350631338\n",
      "(1.0030670068127157, 1.0, 0.5494450164593476, 1.0, 0.6484949016299804) -> 4349.650048427409\n",
      "(0.9969329931872843, 1.0, 0.5494450164593476, 1.0, 0.6484949016299804) -> 4352.490416381839\n",
      "(1.0, 1.001880059906998, 0.5494450164593476, 1.0, 0.6484949016299804) -> 4352.484827719281\n",
      "(1.0, 0.9981199400930022, 0.5494450164593476, 1.0, 0.6484949016299804) -> 4349.65580502589\n",
      "(1.0, 1.0, 0.5503101987837744, 1.0, 0.6484949016299804) -> 4351.120385981633\n",
      "(1.0, 1.0, 0.5485798341349208, 1.0, 0.6484949016299804) -> 4351.019998685358\n",
      "(1.0, 1.0, 0.5494450164593476, 1.0019196539019368, 0.6484949016299804) -> 4349.320380512302\n",
      "(1.0, 1.0, 0.5494450164593476, 0.9980803460980631, 0.6484949016299804) -> 4352.82066610135\n",
      "(1.0, 1.0, 0.5494450164593476, 1.0, 0.6526872958388353) -> 4353.702053535972\n",
      "(1.0, 1.0, 0.5494450164593476, 1.0, 0.6443025074211254) -> 4348.43872332317\n",
      "(1.0006134013625432, 1.0, 0.5494450164593476, 1.0, 0.6484949016299804) -> 4350.7853492625145\n",
      "(0.9993865986374568, 1.0, 0.5494450164593476, 1.0, 0.6484949016299804) -> 4351.353422541959\n",
      "(1.0, 1.0003760119813996, 0.5494450164593476, 1.0, 0.6484949016299804) -> 4351.352292332769\n",
      "(1.0, 0.9996239880186004, 0.5494450164593476, 1.0, 0.6484949016299804) -> 4350.786486189247\n",
      "(1.0, 1.0, 0.5496180529242329, 1.0, 0.6484949016299804) -> 4351.079423391176\n",
      "(1.0, 1.0, 0.5492719799944623, 1.0, 0.6484949016299804) -> 4351.059345207472\n",
      "(1.0, 1.0, 0.5494450164593476, 1.0003839307803875, 0.6484949016299804) -> 4350.719369189276\n",
      "(1.0, 1.0, 0.5494450164593476, 0.9996160692196127, 0.6484949016299804) -> 4351.4194258873495\n",
      "(1.0, 1.0, 0.5494450164593476, 1.0, 0.6493333804717514) -> 4351.595735282312\n",
      "(1.0, 1.0, 0.5494450164593476, 1.0, 0.6476564227882093) -> 4350.543048968641\n",
      "(1.0030670068127157, 1.001880059906998, 0.5494450164593476, 1.0, 0.6484949016299804) -> 4351.068348023784\n",
      "(1.0030670068127157, 1.0, 0.5503101987837744, 1.0, 0.6484949016299804) -> 4349.700977099286\n",
      "(1.0030670068127157, 1.0, 0.5494450164593476, 1.0019196539019368, 0.6484949016299804) -> 4347.90269969041\n",
      "(1.0030670068127157, 1.0, 0.5494450164593476, 0.9999999999999999, 0.6526872958388353) -> 4352.281183475792\n",
      "(1.0, 1.001880059906998, 0.5503101987837744, 0.9999999999999999, 0.6484949016299804) -> 4352.531912644887\n",
      "(1.0, 1.001880059906998, 0.5494450164593476, 1.0019196539019368, 0.6484949016299804) -> 4350.734089393373\n",
      "(1.0, 1.001880059906998, 0.5494450164593476, 0.9999999999999999, 0.6526872958388353) -> 4355.119901611518\n",
      "(1.0, 1.0, 0.5503101987837744, 1.0019196539019368, 0.6484949016299804) -> 4349.371481813372\n",
      "(1.0, 1.0, 0.5503101987837744, 0.9999999999999999, 0.6526872958388353) -> 4353.752422639777\n",
      "(1.0, 1.0, 0.5494450164593476, 1.0019196539019368, 0.6526872958388353) -> 4351.954059911005\n",
      "(49.66909317565592, -40.32568678306268, -11.343906753210103, -16.693789048054562, 45.42198533718604) -> nan\n",
      "(nan, nan, nan, nan, nan) -> nan\n",
      "(nan, nan, nan, nan, nan) -> nan\n",
      "(nan, nan, nan, nan, nan) -> nan\n",
      "(nan, nan, nan, nan, nan) -> nan\n",
      "(nan, nan, nan, nan, nan) -> nan\n",
      "(nan, nan, nan, nan, nan) -> nan\n",
      "(nan, nan, nan, nan, nan) -> nan\n",
      "(nan, nan, nan, nan, nan) -> nan\n",
      "(nan, nan, nan, nan, nan) -> nan\n",
      "(nan, nan, nan, nan, nan) -> nan\n"
     ]
    },
    {
     "data": {
      "text/html": [
       "<table>\n",
       "<tr> <td colspan=\"2\" style=\"text-align:center\" title=\"Minimum value of function\"> FCN = 4351 </td> <td colspan=\"3\" title=\"No. of calls in last algorithm and total number of calls\"> Ncalls = 106 (117 total) </td> </tr>\n",
       "<tr> <td colspan=\"2\" style=\"text-align:center\" title=\"Estimated distance to minimum and target threshold\"> EDM = 5.04e+03 (Goal: 0.0001) </td> <td colspan=\"3\" title=\"Increase in FCN which corresponds to 1 standard deviation\"> up = 0.5 </td> </tr>\n",
       "<tr> <td title=\"Validity of the migrad call\"> Valid Min. </td> <td title=\"Validity of parameters\"> Valid Param. </td> <td title=\"Is EDM above goal EDM?\"> Above EDM </td> <td colspan=\"2\" title=\"Did last migrad call reach max call limit?\"> Reached call limit </td> </tr>\n",
       "<tr> <td style=\"background-color:#FF7878;\"> False </td> <td style=\"background-color:#92CCA6;\"> True </td> <td style=\"background-color:#FF7878;\"> True </td> <td colspan=\"2\" style=\"background-color:#92CCA6;\"> False </td> </tr>\n",
       "<tr> <td title=\"Did Hesse fail?\"> Hesse failed </td> <td title=\"Has covariance matrix\"> Has cov. </td> <td title=\"Is covariance matrix accurate?\"> Accurate </td> <td title=\"Is covariance matrix positive definite?\"> Pos. def. </td> <td title=\"Was positive definiteness enforced by Minuit?\"> Forced </td> </tr>\n",
       "<tr> <td style=\"background-color:#92CCA6;\"> False </td> <td style=\"background-color:#92CCA6;\"> True </td> <td style=\"background-color:#FF7878;\"> False </td> <td style=\"background-color:#FF7878;\"> False </td> <td style=\"background-color:#FF7878;\"> True </td> </tr>\n",
       "</table>\n",
       "<table>\n",
       "<tr style=\"background-color:#F4F4F4;\"> <td/> <th title=\"Variable name\"> Name </th> <th title=\"Value of parameter\"> Value </th> <th title=\"Hesse error\"> Hesse Error </th> <th title=\"Minos lower error\"> Minos Error- </th> <th title=\"Minos upper error\"> Minos Error+ </th> <th title=\"Lower limit of the parameter\"> Limit- </th> <th title=\"Upper limit of the parameter\"> Limit+ </th> <th title=\"Is the parameter fixed in the fit\"> Fixed </th> </tr>\n",
       "<tr style=\"background-color:#FFFFFF;\"> <th> 0 </th> <td> ns </td> <td> 1.0 </td> <td> 0.5 </td> <td>  </td> <td>  </td> <td>  </td> <td>  </td> <td>  </td> </tr>\n",
       "<tr style=\"background-color:#F4F4F4;\"> <th> 1 </th> <td> mu </td> <td> 1.0 </td> <td> 0.4 </td> <td>  </td> <td>  </td> <td>  </td> <td>  </td> <td>  </td> </tr>\n",
       "<tr style=\"background-color:#FFFFFF;\"> <th> 2 </th> <td> sigma </td> <td> 0.55 </td> <td> 0.13 </td> <td>  </td> <td>  </td> <td>  </td> <td>  </td> <td>  </td> </tr>\n",
       "<tr style=\"background-color:#F4F4F4;\"> <th> 3 </th> <td> nb </td> <td> 1.0 </td> <td> 0.2 </td> <td>  </td> <td>  </td> <td>  </td> <td>  </td> <td>  </td> </tr>\n",
       "<tr style=\"background-color:#FFFFFF;\"> <th> 4 </th> <td> lambd </td> <td> 0.6 </td> <td> 0.5 </td> <td>  </td> <td>  </td> <td>  </td> <td>  </td> <td>  </td> </tr>\n",
       "</table>\n"
      ],
      "text/plain": [
       "------------------------------------------------------------------\n",
       "| FCN = 4351                    |     Ncalls=106 (117 total)     |\n",
       "| EDM = 5.04e+03 (Goal: 0.0001) |            up = 0.5            |\n",
       "------------------------------------------------------------------\n",
       "|  Valid Min.   | Valid Param.  | Above EDM | Reached call limit |\n",
       "------------------------------------------------------------------\n",
       "|     False     |     True      |   True    |       False        |\n",
       "------------------------------------------------------------------\n",
       "| Hesse failed  |   Has cov.    | Accurate  | Pos. def. | Forced |\n",
       "------------------------------------------------------------------\n",
       "|     False     |     True      |   False   |   False   |  True  |\n",
       "------------------------------------------------------------------\n",
       "-------------------------------------------------------------------------------------------\n",
       "|   | Name  |   Value   | Hesse Err | Minos Err- | Minos Err+ | Limit-  | Limit+  | Fixed |\n",
       "-------------------------------------------------------------------------------------------\n",
       "| 0 | ns    |    1.0    |    0.5    |            |            |         |         |       |\n",
       "| 1 | mu    |    1.0    |    0.4    |            |            |         |         |       |\n",
       "| 2 | sigma |   0.55    |   0.13    |            |            |         |         |       |\n",
       "| 3 | nb    |    1.0    |    0.2    |            |            |         |         |       |\n",
       "| 4 | lambd |    0.6    |    0.5    |            |            |         |         |       |\n",
       "-------------------------------------------------------------------------------------------"
      ]
     },
     "execution_count": 15,
     "metadata": {},
     "output_type": "execute_result"
    }
   ],
   "source": [
    "cost.verbose = 1\n",
    "m = Minuit(cost, ns=1, mu=1, sigma=1, nb=1, lambd=1)\n",
    "m.migrad()"
   ]
  },
  {
   "cell_type": "markdown",
   "metadata": {},
   "source": [
    "The problem is that some computations during minimization returned nan. Migrad can recover from that some extend, but it shouldn't happen.\n",
    "\n",
    "Here, it happens for several reasons:\n",
    "- `sigma` must be positive, but no limit is set\n",
    "- `lambd` must be positive, but no limit is set\n",
    "\n",
    "This is why Minuit supports parameter limits. Adding limits does not change the parameter values at the minimum, but it will distort the parameter uncertainties if the fit converges with a parameter value at its limit.\n",
    "\n",
    "Let's try again with limits for `sigma` and `lambd`."
   ]
  },
  {
   "cell_type": "code",
   "execution_count": 16,
   "metadata": {},
   "outputs": [
    {
     "name": "stderr",
     "output_type": "stream",
     "text": [
      "/Users/hdembinski/Extern/iminuit/src/iminuit/cost.py:12: RuntimeWarning: invalid value encountered in log\n",
      "  return np.log(x + log_const)\n"
     ]
    },
    {
     "data": {
      "text/html": [
       "<table>\n",
       "<tr> <td colspan=\"2\" style=\"text-align:center\" title=\"Minimum value of function\"> FCN = -4067 </td> <td colspan=\"3\" title=\"No. of calls in last algorithm and total number of calls\"> Ncalls = 1081 (1081 total) </td> </tr>\n",
       "<tr> <td colspan=\"2\" style=\"text-align:center\" title=\"Estimated distance to minimum and target threshold\"> EDM = 9.22 (Goal: 0.0001) </td> <td colspan=\"3\" title=\"Increase in FCN which corresponds to 1 standard deviation\"> up = 0.5 </td> </tr>\n",
       "<tr> <td title=\"Validity of the migrad call\"> Valid Min. </td> <td title=\"Validity of parameters\"> Valid Param. </td> <td title=\"Is EDM above goal EDM?\"> Above EDM </td> <td colspan=\"2\" title=\"Did last migrad call reach max call limit?\"> Reached call limit </td> </tr>\n",
       "<tr> <td style=\"background-color:#FF7878;\"> False </td> <td style=\"background-color:#92CCA6;\"> True </td> <td style=\"background-color:#92CCA6;\"> False </td> <td colspan=\"2\" style=\"background-color:#FF7878;\"> True </td> </tr>\n",
       "<tr> <td title=\"Did Hesse fail?\"> Hesse failed </td> <td title=\"Has covariance matrix\"> Has cov. </td> <td title=\"Is covariance matrix accurate?\"> Accurate </td> <td title=\"Is covariance matrix positive definite?\"> Pos. def. </td> <td title=\"Was positive definiteness enforced by Minuit?\"> Forced </td> </tr>\n",
       "<tr> <td style=\"background-color:#92CCA6;\"> False </td> <td style=\"background-color:#92CCA6;\"> True </td> <td style=\"background-color:#FF7878;\"> False </td> <td style=\"background-color:#92CCA6;\"> True </td> <td style=\"background-color:#92CCA6;\"> False </td> </tr>\n",
       "</table>\n",
       "<table>\n",
       "<tr style=\"background-color:#F4F4F4;\"> <td/> <th title=\"Variable name\"> Name </th> <th title=\"Value of parameter\"> Value </th> <th title=\"Hesse error\"> Hesse Error </th> <th title=\"Minos lower error\"> Minos Error- </th> <th title=\"Minos upper error\"> Minos Error+ </th> <th title=\"Lower limit of the parameter\"> Limit- </th> <th title=\"Upper limit of the parameter\"> Limit+ </th> <th title=\"Is the parameter fixed in the fit\"> Fixed </th> </tr>\n",
       "<tr style=\"background-color:#FFFFFF;\"> <th> 0 </th> <td> ns </td> <td> 1.77e3 </td> <td> 0.12e3 </td> <td>  </td> <td>  </td> <td>  </td> <td>  </td> <td>  </td> </tr>\n",
       "<tr style=\"background-color:#F4F4F4;\"> <th> 1 </th> <td> mu </td> <td> 0.338 </td> <td> 0.033 </td> <td>  </td> <td>  </td> <td>  </td> <td>  </td> <td>  </td> </tr>\n",
       "<tr style=\"background-color:#FFFFFF;\"> <th> 2 </th> <td> sigma </td> <td> 0.30 </td> <td> 0.04 </td> <td>  </td> <td>  </td> <td> 0 </td> <td>  </td> <td>  </td> </tr>\n",
       "<tr style=\"background-color:#F4F4F4;\"> <th> 3 </th> <td> nb </td> <td> -27.3e3 </td> <td> 1.8e3 </td> <td>  </td> <td>  </td> <td>  </td> <td>  </td> <td>  </td> </tr>\n",
       "<tr style=\"background-color:#FFFFFF;\"> <th> 4 </th> <td> lambd </td> <td> 10.1e3 </td> <td> 0.6e3 </td> <td>  </td> <td>  </td> <td> 0 </td> <td>  </td> <td>  </td> </tr>\n",
       "</table>\n"
      ],
      "text/plain": [
       "------------------------------------------------------------------\n",
       "| FCN = -4067                   |    Ncalls=1081 (1081 total)    |\n",
       "| EDM = 9.22 (Goal: 0.0001)     |            up = 0.5            |\n",
       "------------------------------------------------------------------\n",
       "|  Valid Min.   | Valid Param.  | Above EDM | Reached call limit |\n",
       "------------------------------------------------------------------\n",
       "|     False     |     True      |   False   |        True        |\n",
       "------------------------------------------------------------------\n",
       "| Hesse failed  |   Has cov.    | Accurate  | Pos. def. | Forced |\n",
       "------------------------------------------------------------------\n",
       "|     False     |     True      |   False   |   True    | False  |\n",
       "------------------------------------------------------------------\n",
       "-------------------------------------------------------------------------------------------\n",
       "|   | Name  |   Value   | Hesse Err | Minos Err- | Minos Err+ | Limit-  | Limit+  | Fixed |\n",
       "-------------------------------------------------------------------------------------------\n",
       "| 0 | ns    |  1.77e3   |  0.12e3   |            |            |         |         |       |\n",
       "| 1 | mu    |   0.338   |   0.033   |            |            |         |         |       |\n",
       "| 2 | sigma |   0.30    |   0.04    |            |            |    0    |         |       |\n",
       "| 3 | nb    |  -27.3e3  |   1.8e3   |            |            |         |         |       |\n",
       "| 4 | lambd |  10.1e3   |   0.6e3   |            |            |    0    |         |       |\n",
       "-------------------------------------------------------------------------------------------"
      ]
     },
     "execution_count": 16,
     "metadata": {},
     "output_type": "execute_result"
    }
   ],
   "source": [
    "cost.verbose = 0\n",
    "m = Minuit(cost, ns=1, mu=1, sigma=1, nb=1, lambd=1,\n",
    "           limit_lambd=(0, None),\n",
    "           limit_sigma=(0, None))\n",
    "m.migrad()"
   ]
  },
  {
   "cell_type": "markdown",
   "metadata": {},
   "source": [
    "This looks better, more green, but still a failure. This time, Minuit gave up because it ran over its call limit. We didn't set a call limit, but Minuit uses a heuristic in this case to not iterate forever. In fact, that was not the only problem, another NaN result was encountered.\n",
    "\n",
    "Let's try again with an increased the call limit."
   ]
  },
  {
   "cell_type": "code",
   "execution_count": 17,
   "metadata": {},
   "outputs": [
    {
     "data": {
      "text/html": [
       "<table>\n",
       "<tr> <td colspan=\"2\" style=\"text-align:center\" title=\"Minimum value of function\"> FCN = -4079 </td> <td colspan=\"3\" title=\"No. of calls in last algorithm and total number of calls\"> Ncalls = 489 (1581 total) </td> </tr>\n",
       "<tr> <td colspan=\"2\" style=\"text-align:center\" title=\"Estimated distance to minimum and target threshold\"> EDM = 6.27e-06 (Goal: 0.0001) </td> <td colspan=\"3\" title=\"Increase in FCN which corresponds to 1 standard deviation\"> up = 0.5 </td> </tr>\n",
       "<tr> <td title=\"Validity of the migrad call\"> Valid Min. </td> <td title=\"Validity of parameters\"> Valid Param. </td> <td title=\"Is EDM above goal EDM?\"> Above EDM </td> <td colspan=\"2\" title=\"Did last migrad call reach max call limit?\"> Reached call limit </td> </tr>\n",
       "<tr> <td style=\"background-color:#92CCA6;\"> True </td> <td style=\"background-color:#92CCA6;\"> True </td> <td style=\"background-color:#92CCA6;\"> False </td> <td colspan=\"2\" style=\"background-color:#92CCA6;\"> False </td> </tr>\n",
       "<tr> <td title=\"Did Hesse fail?\"> Hesse failed </td> <td title=\"Has covariance matrix\"> Has cov. </td> <td title=\"Is covariance matrix accurate?\"> Accurate </td> <td title=\"Is covariance matrix positive definite?\"> Pos. def. </td> <td title=\"Was positive definiteness enforced by Minuit?\"> Forced </td> </tr>\n",
       "<tr> <td style=\"background-color:#92CCA6;\"> False </td> <td style=\"background-color:#92CCA6;\"> True </td> <td style=\"background-color:#FF7878;\"> False </td> <td style=\"background-color:#FF7878;\"> False </td> <td style=\"background-color:#FF7878;\"> True </td> </tr>\n",
       "</table>\n",
       "<table>\n",
       "<tr style=\"background-color:#F4F4F4;\"> <td/> <th title=\"Variable name\"> Name </th> <th title=\"Value of parameter\"> Value </th> <th title=\"Hesse error\"> Hesse Error </th> <th title=\"Minos lower error\"> Minos Error- </th> <th title=\"Minos upper error\"> Minos Error+ </th> <th title=\"Lower limit of the parameter\"> Limit- </th> <th title=\"Upper limit of the parameter\"> Limit+ </th> <th title=\"Is the parameter fixed in the fit\"> Fixed </th> </tr>\n",
       "<tr style=\"background-color:#FFFFFF;\"> <th> 0 </th> <td> ns </td> <td> 1.34e3 </td> <td> 0.12e3 </td> <td>  </td> <td>  </td> <td>  </td> <td>  </td> <td>  </td> </tr>\n",
       "<tr style=\"background-color:#F4F4F4;\"> <th> 1 </th> <td> mu </td> <td> 0.373 </td> <td> 0.010 </td> <td>  </td> <td>  </td> <td>  </td> <td>  </td> <td>  </td> </tr>\n",
       "<tr style=\"background-color:#FFFFFF;\"> <th> 2 </th> <td> sigma </td> <td> 0.247 </td> <td> 0.017 </td> <td>  </td> <td>  </td> <td> 0 </td> <td>  </td> <td>  </td> </tr>\n",
       "<tr style=\"background-color:#F4F4F4;\"> <th> 3 </th> <td> nb </td> <td> 0.8e6 </td> <td> 2.3e6 </td> <td>  </td> <td>  </td> <td>  </td> <td>  </td> <td>  </td> </tr>\n",
       "<tr style=\"background-color:#FFFFFF;\"> <th> 4 </th> <td> lambd </td> <td> 0.006e6 </td> <td> 0.012e6 </td> <td>  </td> <td>  </td> <td> 0 </td> <td>  </td> <td>  </td> </tr>\n",
       "</table>\n"
      ],
      "text/plain": [
       "------------------------------------------------------------------\n",
       "| FCN = -4079                   |    Ncalls=489 (1581 total)     |\n",
       "| EDM = 6.27e-06 (Goal: 0.0001) |            up = 0.5            |\n",
       "------------------------------------------------------------------\n",
       "|  Valid Min.   | Valid Param.  | Above EDM | Reached call limit |\n",
       "------------------------------------------------------------------\n",
       "|     True      |     True      |   False   |       False        |\n",
       "------------------------------------------------------------------\n",
       "| Hesse failed  |   Has cov.    | Accurate  | Pos. def. | Forced |\n",
       "------------------------------------------------------------------\n",
       "|     False     |     True      |   False   |   False   |  True  |\n",
       "------------------------------------------------------------------\n",
       "-------------------------------------------------------------------------------------------\n",
       "|   | Name  |   Value   | Hesse Err | Minos Err- | Minos Err+ | Limit-  | Limit+  | Fixed |\n",
       "-------------------------------------------------------------------------------------------\n",
       "| 0 | ns    |  1.34e3   |  0.12e3   |            |            |         |         |       |\n",
       "| 1 | mu    |   0.373   |   0.010   |            |            |         |         |       |\n",
       "| 2 | sigma |   0.247   |   0.017   |            |            |    0    |         |       |\n",
       "| 3 | nb    |   0.8e6   |   2.3e6   |            |            |         |         |       |\n",
       "| 4 | lambd |  0.006e6  |  0.012e6  |            |            |    0    |         |       |\n",
       "-------------------------------------------------------------------------------------------"
      ]
     },
     "execution_count": 17,
     "metadata": {},
     "output_type": "execute_result"
    }
   ],
   "source": [
    "m = Minuit(cost, ns=1, mu=1, sigma=1, nb=1, lambd=1,\n",
    "           limit_lambd=(0, None),\n",
    "           limit_sigma=(0, None))\n",
    "m.migrad(ncall=1e6)"
   ]
  },
  {
   "cell_type": "markdown",
   "metadata": {},
   "source": [
    "This time, Minuit converged to something, but it does not seem to be a minimum. The Hessian matrix is not positiv definite.\n",
    "\n",
    "Let's plot this \"solution\"."
   ]
  },
  {
   "cell_type": "code",
   "execution_count": 18,
   "metadata": {},
   "outputs": [
    {
     "data": {
      "image/png": "[encoded data removed]",
      "text/plain": [
       "<Figure size 432x288 with 1 Axes>"
      ]
     },
     "metadata": {
      "needs_background": "light"
     },
     "output_type": "display_data"
    }
   ],
   "source": [
    "def plot_model(xe, cdf): # helper function\n",
    "    plt.plot(xe, np.append(np.diff(cdf), np.nan), drawstyle=\"steps-post\")\n",
    "\n",
    "plt.hist(x, bins=30, range=(0, 1));\n",
    "plot_model(xe, total(xe, *m.values[:]))"
   ]
  },
  {
   "cell_type": "markdown",
   "metadata": {},
   "source": [
    "The fit clearly looks bad. In fact, we only see the signal. The background has a huge amplitude, but also a huge lambda, making it effectively a delta peak at zero. That is not a plausible solution.\n",
    "\n",
    "We need better starting values. Let's mask out the signal and fit only the background. The cost function has a `mask` attribute for that."
   ]
  },
  {
   "cell_type": "code",
   "execution_count": 19,
   "metadata": {},
   "outputs": [
    {
     "data": {
      "text/html": [
       "<table>\n",
       "<tr> <td colspan=\"2\" style=\"text-align:center\" title=\"Minimum value of function\"> FCN = -1397 </td> <td colspan=\"3\" title=\"No. of calls in last algorithm and total number of calls\"> Ncalls = 159 (159 total) </td> </tr>\n",
       "<tr> <td colspan=\"2\" style=\"text-align:center\" title=\"Estimated distance to minimum and target threshold\"> EDM = 6.32e-07 (Goal: 0.0001) </td> <td colspan=\"3\" title=\"Increase in FCN which corresponds to 1 standard deviation\"> up = 0.5 </td> </tr>\n",
       "<tr> <td title=\"Validity of the migrad call\"> Valid Min. </td> <td title=\"Validity of parameters\"> Valid Param. </td> <td title=\"Is EDM above goal EDM?\"> Above EDM </td> <td colspan=\"2\" title=\"Did last migrad call reach max call limit?\"> Reached call limit </td> </tr>\n",
       "<tr> <td style=\"background-color:#92CCA6;\"> True </td> <td style=\"background-color:#92CCA6;\"> True </td> <td style=\"background-color:#92CCA6;\"> False </td> <td colspan=\"2\" style=\"background-color:#92CCA6;\"> False </td> </tr>\n",
       "<tr> <td title=\"Did Hesse fail?\"> Hesse failed </td> <td title=\"Has covariance matrix\"> Has cov. </td> <td title=\"Is covariance matrix accurate?\"> Accurate </td> <td title=\"Is covariance matrix positive definite?\"> Pos. def. </td> <td title=\"Was positive definiteness enforced by Minuit?\"> Forced </td> </tr>\n",
       "<tr> <td style=\"background-color:#92CCA6;\"> False </td> <td style=\"background-color:#92CCA6;\"> True </td> <td style=\"background-color:#92CCA6;\"> True </td> <td style=\"background-color:#92CCA6;\"> True </td> <td style=\"background-color:#92CCA6;\"> False </td> </tr>\n",
       "</table>\n",
       "<table>\n",
       "<tr style=\"background-color:#F4F4F4;\"> <td/> <th title=\"Variable name\"> Name </th> <th title=\"Value of parameter\"> Value </th> <th title=\"Hesse error\"> Hesse Error </th> <th title=\"Minos lower error\"> Minos Error- </th> <th title=\"Minos upper error\"> Minos Error+ </th> <th title=\"Lower limit of the parameter\"> Limit- </th> <th title=\"Upper limit of the parameter\"> Limit+ </th> <th title=\"Is the parameter fixed in the fit\"> Fixed </th> </tr>\n",
       "<tr style=\"background-color:#FFFFFF;\"> <th> 0 </th> <td> ns </td> <td> 0.00 </td> <td> 0.01 </td> <td>  </td> <td>  </td> <td>  </td> <td>  </td> <td> yes </td> </tr>\n",
       "<tr style=\"background-color:#F4F4F4;\"> <th> 1 </th> <td> mu </td> <td> 1.00 </td> <td> 0.01 </td> <td>  </td> <td>  </td> <td>  </td> <td>  </td> <td> yes </td> </tr>\n",
       "<tr style=\"background-color:#FFFFFF;\"> <th> 2 </th> <td> sigma </td> <td> 1.00 </td> <td> 0.01 </td> <td>  </td> <td>  </td> <td> 0 </td> <td>  </td> <td> yes </td> </tr>\n",
       "<tr style=\"background-color:#F4F4F4;\"> <th> 3 </th> <td> nb </td> <td> 1.01e3 </td> <td> 0.06e3 </td> <td>  </td> <td>  </td> <td>  </td> <td>  </td> <td>  </td> </tr>\n",
       "<tr style=\"background-color:#FFFFFF;\"> <th> 4 </th> <td> lambd </td> <td> 0.55 </td> <td> 0.04 </td> <td>  </td> <td>  </td> <td> 0 </td> <td>  </td> <td>  </td> </tr>\n",
       "</table>\n"
      ],
      "text/plain": [
       "------------------------------------------------------------------\n",
       "| FCN = -1397                   |     Ncalls=159 (159 total)     |\n",
       "| EDM = 6.32e-07 (Goal: 0.0001) |            up = 0.5            |\n",
       "------------------------------------------------------------------\n",
       "|  Valid Min.   | Valid Param.  | Above EDM | Reached call limit |\n",
       "------------------------------------------------------------------\n",
       "|     True      |     True      |   False   |       False        |\n",
       "------------------------------------------------------------------\n",
       "| Hesse failed  |   Has cov.    | Accurate  | Pos. def. | Forced |\n",
       "------------------------------------------------------------------\n",
       "|     False     |     True      |   True    |   True    | False  |\n",
       "------------------------------------------------------------------\n",
       "-------------------------------------------------------------------------------------------\n",
       "|   | Name  |   Value   | Hesse Err | Minos Err- | Minos Err+ | Limit-  | Limit+  | Fixed |\n",
       "-------------------------------------------------------------------------------------------\n",
       "| 0 | ns    |   0.00    |   0.01    |            |            |         |         |  yes  |\n",
       "| 1 | mu    |   1.00    |   0.01    |            |            |         |         |  yes  |\n",
       "| 2 | sigma |   1.00    |   0.01    |            |            |    0    |         |  yes  |\n",
       "| 3 | nb    |  1.01e3   |  0.06e3   |            |            |         |         |       |\n",
       "| 4 | lambd |   0.55    |   0.04    |            |            |    0    |         |       |\n",
       "-------------------------------------------------------------------------------------------"
      ]
     },
     "execution_count": 19,
     "metadata": {},
     "output_type": "execute_result"
    }
   ],
   "source": [
    "# signal window is roughly 0.3 to 0.7, let's mask that out\n",
    "cx = 0.5 * (xe[1:] + xe[:-1]) # compute bin centers\n",
    "\n",
    "cost.mask = (cx < 0.3) | (0.7 < cx)\n",
    "\n",
    "cost.verbose = 0 # turn verbosity off again, this fit should not cause trouble\n",
    "\n",
    "m = Minuit(cost, ns=1, mu=1, sigma=1, nb=1, lambd=1,\n",
    "           limit_lambd=(0, None),\n",
    "           limit_sigma=(0, None))\n",
    "\n",
    "# fix signal parameters for next fit and set signal amplitude to zero\n",
    "m.fixed[:3] = True\n",
    "m.values[\"ns\"] = 0\n",
    "\n",
    "m.migrad()"
   ]
  },
  {
   "cell_type": "code",
   "execution_count": 20,
   "metadata": {},
   "outputs": [
    {
     "data": {
      "image/png": "[encoded data removed]",
      "text/plain": [
       "<Figure size 432x288 with 1 Axes>"
      ]
     },
     "metadata": {
      "needs_background": "light"
     },
     "output_type": "display_data"
    }
   ],
   "source": [
    "plt.hist(x, bins=30, range=(0, 1));\n",
    "plot_model(xe, total(xe, *m.values[:]))"
   ]
  },
  {
   "cell_type": "markdown",
   "metadata": {},
   "source": [
    "Much better! We now unmask the signal, fix the background parameters and only fit the signal."
   ]
  },
  {
   "cell_type": "code",
   "execution_count": 21,
   "metadata": {},
   "outputs": [
    {
     "data": {
      "text/html": [
       "<table>\n",
       "<tr> <td colspan=\"2\" style=\"text-align:center\" title=\"Minimum value of function\"> FCN = -4292 </td> <td colspan=\"3\" title=\"No. of calls in last algorithm and total number of calls\"> Ncalls = 227 (386 total) </td> </tr>\n",
       "<tr> <td colspan=\"2\" style=\"text-align:center\" title=\"Estimated distance to minimum and target threshold\"> EDM = 3.47e-06 (Goal: 0.0001) </td> <td colspan=\"3\" title=\"Increase in FCN which corresponds to 1 standard deviation\"> up = 0.5 </td> </tr>\n",
       "<tr> <td title=\"Validity of the migrad call\"> Valid Min. </td> <td title=\"Validity of parameters\"> Valid Param. </td> <td title=\"Is EDM above goal EDM?\"> Above EDM </td> <td colspan=\"2\" title=\"Did last migrad call reach max call limit?\"> Reached call limit </td> </tr>\n",
       "<tr> <td style=\"background-color:#92CCA6;\"> True </td> <td style=\"background-color:#92CCA6;\"> True </td> <td style=\"background-color:#92CCA6;\"> False </td> <td colspan=\"2\" style=\"background-color:#92CCA6;\"> False </td> </tr>\n",
       "<tr> <td title=\"Did Hesse fail?\"> Hesse failed </td> <td title=\"Has covariance matrix\"> Has cov. </td> <td title=\"Is covariance matrix accurate?\"> Accurate </td> <td title=\"Is covariance matrix positive definite?\"> Pos. def. </td> <td title=\"Was positive definiteness enforced by Minuit?\"> Forced </td> </tr>\n",
       "<tr> <td style=\"background-color:#92CCA6;\"> False </td> <td style=\"background-color:#92CCA6;\"> True </td> <td style=\"background-color:#92CCA6;\"> True </td> <td style=\"background-color:#92CCA6;\"> True </td> <td style=\"background-color:#92CCA6;\"> False </td> </tr>\n",
       "</table>\n",
       "<table>\n",
       "<tr style=\"background-color:#F4F4F4;\"> <td/> <th title=\"Variable name\"> Name </th> <th title=\"Value of parameter\"> Value </th> <th title=\"Hesse error\"> Hesse Error </th> <th title=\"Minos lower error\"> Minos Error- </th> <th title=\"Minos upper error\"> Minos Error+ </th> <th title=\"Lower limit of the parameter\"> Limit- </th> <th title=\"Upper limit of the parameter\"> Limit+ </th> <th title=\"Is the parameter fixed in the fit\"> Fixed </th> </tr>\n",
       "<tr style=\"background-color:#FFFFFF;\"> <th> 0 </th> <td> ns </td> <td> 510 </td> <td> 27 </td> <td>  </td> <td>  </td> <td>  </td> <td>  </td> <td>  </td> </tr>\n",
       "<tr style=\"background-color:#F4F4F4;\"> <th> 1 </th> <td> mu </td> <td> 0.4990 </td> <td> 0.0028 </td> <td>  </td> <td>  </td> <td>  </td> <td>  </td> <td>  </td> </tr>\n",
       "<tr style=\"background-color:#FFFFFF;\"> <th> 2 </th> <td> sigma </td> <td> 0.0467 </td> <td> 0.0028 </td> <td>  </td> <td>  </td> <td> 0 </td> <td>  </td> <td>  </td> </tr>\n",
       "<tr style=\"background-color:#F4F4F4;\"> <th> 3 </th> <td> nb </td> <td> 1.01e3 </td> <td> 0.06e3 </td> <td>  </td> <td>  </td> <td>  </td> <td>  </td> <td> yes </td> </tr>\n",
       "<tr style=\"background-color:#FFFFFF;\"> <th> 4 </th> <td> lambd </td> <td> 0.55 </td> <td> 0.04 </td> <td>  </td> <td>  </td> <td> 0 </td> <td>  </td> <td> yes </td> </tr>\n",
       "</table>\n"
      ],
      "text/plain": [
       "------------------------------------------------------------------\n",
       "| FCN = -4292                   |     Ncalls=227 (386 total)     |\n",
       "| EDM = 3.47e-06 (Goal: 0.0001) |            up = 0.5            |\n",
       "------------------------------------------------------------------\n",
       "|  Valid Min.   | Valid Param.  | Above EDM | Reached call limit |\n",
       "------------------------------------------------------------------\n",
       "|     True      |     True      |   False   |       False        |\n",
       "------------------------------------------------------------------\n",
       "| Hesse failed  |   Has cov.    | Accurate  | Pos. def. | Forced |\n",
       "------------------------------------------------------------------\n",
       "|     False     |     True      |   True    |   True    | False  |\n",
       "------------------------------------------------------------------\n",
       "-------------------------------------------------------------------------------------------\n",
       "|   | Name  |   Value   | Hesse Err | Minos Err- | Minos Err+ | Limit-  | Limit+  | Fixed |\n",
       "-------------------------------------------------------------------------------------------\n",
       "| 0 | ns    |    510    |    27     |            |            |         |         |       |\n",
       "| 1 | mu    |  0.4990   |  0.0028   |            |            |         |         |       |\n",
       "| 2 | sigma |  0.0467   |  0.0028   |            |            |    0    |         |       |\n",
       "| 3 | nb    |  1.01e3   |  0.06e3   |            |            |         |         |  yes  |\n",
       "| 4 | lambd |   0.55    |   0.04    |            |            |    0    |         |  yes  |\n",
       "-------------------------------------------------------------------------------------------"
      ]
     },
     "execution_count": 21,
     "metadata": {},
     "output_type": "execute_result"
    }
   ],
   "source": [
    "cost.mask = None\n",
    "m.fixed[:] = False\n",
    "m.fixed[\"nb\"] = True\n",
    "m.fixed[\"lambd\"] = True\n",
    "m.values[\"ns\"] = 1\n",
    "m.migrad()"
   ]
  },
  {
   "cell_type": "code",
   "execution_count": 22,
   "metadata": {},
   "outputs": [
    {
     "data": {
      "image/png": "[encoded data removed]",
      "text/plain": [
       "<Figure size 432x288 with 1 Axes>"
      ]
     },
     "metadata": {
      "needs_background": "light"
     },
     "output_type": "display_data"
    }
   ],
   "source": [
    "plt.hist(x, bins=30, range=(0, 1));\n",
    "plot_model(xe, total(xe, *m.values[:]))"
   ]
  },
  {
   "cell_type": "markdown",
   "metadata": {},
   "source": [
    "This looks great! To wrap things up, we let Minuit optimize everything together to get the final values and uncertainties."
   ]
  },
  {
   "cell_type": "code",
   "execution_count": 23,
   "metadata": {},
   "outputs": [
    {
     "data": {
      "text/html": [
       "<table>\n",
       "<tr> <td colspan=\"2\" style=\"text-align:center\" title=\"Minimum value of function\"> FCN = -4293 </td> <td colspan=\"3\" title=\"No. of calls in last algorithm and total number of calls\"> Ncalls = 97 (483 total) </td> </tr>\n",
       "<tr> <td colspan=\"2\" style=\"text-align:center\" title=\"Estimated distance to minimum and target threshold\"> EDM = 2.55e-06 (Goal: 0.0001) </td> <td colspan=\"3\" title=\"Increase in FCN which corresponds to 1 standard deviation\"> up = 0.5 </td> </tr>\n",
       "<tr> <td title=\"Validity of the migrad call\"> Valid Min. </td> <td title=\"Validity of parameters\"> Valid Param. </td> <td title=\"Is EDM above goal EDM?\"> Above EDM </td> <td colspan=\"2\" title=\"Did last migrad call reach max call limit?\"> Reached call limit </td> </tr>\n",
       "<tr> <td style=\"background-color:#92CCA6;\"> True </td> <td style=\"background-color:#92CCA6;\"> True </td> <td style=\"background-color:#92CCA6;\"> False </td> <td colspan=\"2\" style=\"background-color:#92CCA6;\"> False </td> </tr>\n",
       "<tr> <td title=\"Did Hesse fail?\"> Hesse failed </td> <td title=\"Has covariance matrix\"> Has cov. </td> <td title=\"Is covariance matrix accurate?\"> Accurate </td> <td title=\"Is covariance matrix positive definite?\"> Pos. def. </td> <td title=\"Was positive definiteness enforced by Minuit?\"> Forced </td> </tr>\n",
       "<tr> <td style=\"background-color:#92CCA6;\"> False </td> <td style=\"background-color:#92CCA6;\"> True </td> <td style=\"background-color:#92CCA6;\"> True </td> <td style=\"background-color:#92CCA6;\"> True </td> <td style=\"background-color:#92CCA6;\"> False </td> </tr>\n",
       "</table>\n",
       "<table>\n",
       "<tr style=\"background-color:#F4F4F4;\"> <td/> <th title=\"Variable name\"> Name </th> <th title=\"Value of parameter\"> Value </th> <th title=\"Hesse error\"> Hesse Error </th> <th title=\"Minos lower error\"> Minos Error- </th> <th title=\"Minos upper error\"> Minos Error+ </th> <th title=\"Lower limit of the parameter\"> Limit- </th> <th title=\"Upper limit of the parameter\"> Limit+ </th> <th title=\"Is the parameter fixed in the fit\"> Fixed </th> </tr>\n",
       "<tr style=\"background-color:#FFFFFF;\"> <th> 0 </th> <td> ns </td> <td> 501 </td> <td> 29 </td> <td>  </td> <td>  </td> <td>  </td> <td>  </td> <td>  </td> </tr>\n",
       "<tr style=\"background-color:#F4F4F4;\"> <th> 1 </th> <td> mu </td> <td> 0.4991 </td> <td> 0.0028 </td> <td>  </td> <td>  </td> <td>  </td> <td>  </td> <td>  </td> </tr>\n",
       "<tr style=\"background-color:#FFFFFF;\"> <th> 2 </th> <td> sigma </td> <td> 0.0458 </td> <td> 0.0029 </td> <td>  </td> <td>  </td> <td> 0 </td> <td>  </td> <td>  </td> </tr>\n",
       "<tr style=\"background-color:#F4F4F4;\"> <th> 3 </th> <td> nb </td> <td> 1.05e3 </td> <td> 0.05e3 </td> <td>  </td> <td>  </td> <td>  </td> <td>  </td> <td>  </td> </tr>\n",
       "<tr style=\"background-color:#FFFFFF;\"> <th> 4 </th> <td> lambd </td> <td> 0.56 </td> <td> 0.04 </td> <td>  </td> <td>  </td> <td> 0 </td> <td>  </td> <td>  </td> </tr>\n",
       "</table>\n"
      ],
      "text/plain": [
       "------------------------------------------------------------------\n",
       "| FCN = -4293                   |     Ncalls=97 (483 total)      |\n",
       "| EDM = 2.55e-06 (Goal: 0.0001) |            up = 0.5            |\n",
       "------------------------------------------------------------------\n",
       "|  Valid Min.   | Valid Param.  | Above EDM | Reached call limit |\n",
       "------------------------------------------------------------------\n",
       "|     True      |     True      |   False   |       False        |\n",
       "------------------------------------------------------------------\n",
       "| Hesse failed  |   Has cov.    | Accurate  | Pos. def. | Forced |\n",
       "------------------------------------------------------------------\n",
       "|     False     |     True      |   True    |   True    | False  |\n",
       "------------------------------------------------------------------\n",
       "-------------------------------------------------------------------------------------------\n",
       "|   | Name  |   Value   | Hesse Err | Minos Err- | Minos Err+ | Limit-  | Limit+  | Fixed |\n",
       "-------------------------------------------------------------------------------------------\n",
       "| 0 | ns    |    501    |    29     |            |            |         |         |       |\n",
       "| 1 | mu    |  0.4991   |  0.0028   |            |            |         |         |       |\n",
       "| 2 | sigma |  0.0458   |  0.0029   |            |            |    0    |         |       |\n",
       "| 3 | nb    |  1.05e3   |  0.05e3   |            |            |         |         |       |\n",
       "| 4 | lambd |   0.56    |   0.04    |            |            |    0    |         |       |\n",
       "-------------------------------------------------------------------------------------------"
      ]
     },
     "execution_count": 23,
     "metadata": {},
     "output_type": "execute_result"
    }
   ],
   "source": [
    "m.fixed[:] = False\n",
    "m.migrad()"
   ]
  },
  {
   "cell_type": "markdown",
   "metadata": {},
   "source": [
    "The values changed a bit and the uncertaintes of the signal parameters became larger. That is expected unless the parameters are independent."
   ]
  },
  {
   "cell_type": "code",
   "execution_count": 24,
   "metadata": {},
   "outputs": [
    {
     "data": {
      "image/png": "[encoded data removed]",
      "text/plain": [
       "<Figure size 432x288 with 1 Axes>"
      ]
     },
     "metadata": {
      "needs_background": "light"
     },
     "output_type": "display_data"
    }
   ],
   "source": [
    "plt.hist(x, bins=30, range=(0, 1));\n",
    "plot_model(xe, total(xe, *m.values[:]))"
   ]
  },
  {
   "cell_type": "markdown",
   "metadata": {},
   "source": [
    "🎉🎉🎉"
   ]
  },
  {
   "cell_type": "markdown",
   "metadata": {},
   "source": [
    "### Final note: set limits appropriately\n",
    "\n",
    "We could have gotten the good result right away by setting appropriate limits on all parameters."
   ]
  },
  {
   "cell_type": "code",
   "execution_count": 25,
   "metadata": {},
   "outputs": [
    {
     "data": {
      "text/html": [
       "<table>\n",
       "<tr> <td colspan=\"2\" style=\"text-align:center\" title=\"Minimum value of function\"> FCN = -4293 </td> <td colspan=\"3\" title=\"No. of calls in last algorithm and total number of calls\"> Ncalls = 626 (626 total) </td> </tr>\n",
       "<tr> <td colspan=\"2\" style=\"text-align:center\" title=\"Estimated distance to minimum and target threshold\"> EDM = 3.46e-05 (Goal: 0.0001) </td> <td colspan=\"3\" title=\"Increase in FCN which corresponds to 1 standard deviation\"> up = 0.5 </td> </tr>\n",
       "<tr> <td title=\"Validity of the migrad call\"> Valid Min. </td> <td title=\"Validity of parameters\"> Valid Param. </td> <td title=\"Is EDM above goal EDM?\"> Above EDM </td> <td colspan=\"2\" title=\"Did last migrad call reach max call limit?\"> Reached call limit </td> </tr>\n",
       "<tr> <td style=\"background-color:#92CCA6;\"> True </td> <td style=\"background-color:#92CCA6;\"> True </td> <td style=\"background-color:#92CCA6;\"> False </td> <td colspan=\"2\" style=\"background-color:#92CCA6;\"> False </td> </tr>\n",
       "<tr> <td title=\"Did Hesse fail?\"> Hesse failed </td> <td title=\"Has covariance matrix\"> Has cov. </td> <td title=\"Is covariance matrix accurate?\"> Accurate </td> <td title=\"Is covariance matrix positive definite?\"> Pos. def. </td> <td title=\"Was positive definiteness enforced by Minuit?\"> Forced </td> </tr>\n",
       "<tr> <td style=\"background-color:#92CCA6;\"> False </td> <td style=\"background-color:#92CCA6;\"> True </td> <td style=\"background-color:#92CCA6;\"> True </td> <td style=\"background-color:#92CCA6;\"> True </td> <td style=\"background-color:#92CCA6;\"> False </td> </tr>\n",
       "</table>\n",
       "<table>\n",
       "<tr style=\"background-color:#F4F4F4;\"> <td/> <th title=\"Variable name\"> Name </th> <th title=\"Value of parameter\"> Value </th> <th title=\"Hesse error\"> Hesse Error </th> <th title=\"Minos lower error\"> Minos Error- </th> <th title=\"Minos upper error\"> Minos Error+ </th> <th title=\"Lower limit of the parameter\"> Limit- </th> <th title=\"Upper limit of the parameter\"> Limit+ </th> <th title=\"Is the parameter fixed in the fit\"> Fixed </th> </tr>\n",
       "<tr style=\"background-color:#FFFFFF;\"> <th> 0 </th> <td> ns </td> <td> 501 </td> <td> 29 </td> <td>  </td> <td>  </td> <td> 0 </td> <td>  </td> <td>  </td> </tr>\n",
       "<tr style=\"background-color:#F4F4F4;\"> <th> 1 </th> <td> mu </td> <td> 0.4991 </td> <td> 0.0028 </td> <td>  </td> <td>  </td> <td> 0.4 </td> <td> 0.6 </td> <td>  </td> </tr>\n",
       "<tr style=\"background-color:#FFFFFF;\"> <th> 2 </th> <td> sigma </td> <td> 0.0457 </td> <td> 0.0029 </td> <td>  </td> <td>  </td> <td> 0 </td> <td> 0.2 </td> <td>  </td> </tr>\n",
       "<tr style=\"background-color:#F4F4F4;\"> <th> 3 </th> <td> nb </td> <td> 1.05e3 </td> <td> 0.05e3 </td> <td>  </td> <td>  </td> <td> 0 </td> <td>  </td> <td>  </td> </tr>\n",
       "<tr style=\"background-color:#FFFFFF;\"> <th> 4 </th> <td> lambd </td> <td> 0.56 </td> <td> 0.04 </td> <td>  </td> <td>  </td> <td> 0 </td> <td> 2 </td> <td>  </td> </tr>\n",
       "</table>\n"
      ],
      "text/plain": [
       "------------------------------------------------------------------\n",
       "| FCN = -4293                   |     Ncalls=626 (626 total)     |\n",
       "| EDM = 3.46e-05 (Goal: 0.0001) |            up = 0.5            |\n",
       "------------------------------------------------------------------\n",
       "|  Valid Min.   | Valid Param.  | Above EDM | Reached call limit |\n",
       "------------------------------------------------------------------\n",
       "|     True      |     True      |   False   |       False        |\n",
       "------------------------------------------------------------------\n",
       "| Hesse failed  |   Has cov.    | Accurate  | Pos. def. | Forced |\n",
       "------------------------------------------------------------------\n",
       "|     False     |     True      |   True    |   True    | False  |\n",
       "------------------------------------------------------------------\n",
       "-------------------------------------------------------------------------------------------\n",
       "|   | Name  |   Value   | Hesse Err | Minos Err- | Minos Err+ | Limit-  | Limit+  | Fixed |\n",
       "-------------------------------------------------------------------------------------------\n",
       "| 0 | ns    |    501    |    29     |            |            |    0    |         |       |\n",
       "| 1 | mu    |  0.4991   |  0.0028   |            |            |   0.4   |   0.6   |       |\n",
       "| 2 | sigma |  0.0457   |  0.0029   |            |            |    0    |   0.2   |       |\n",
       "| 3 | nb    |  1.05e3   |  0.05e3   |            |            |    0    |         |       |\n",
       "| 4 | lambd |   0.56    |   0.04    |            |            |    0    |    2    |       |\n",
       "-------------------------------------------------------------------------------------------"
      ]
     },
     "execution_count": 25,
     "metadata": {},
     "output_type": "execute_result"
    }
   ],
   "source": [
    "m = Minuit(cost, ns=1, mu=1, sigma=1, nb=1, lambd=1,\n",
    "           limit_ns=(0, None),\n",
    "           limit_nb=(0, None),  \n",
    "           limit_mu=(0.4, 0.6),\n",
    "           limit_lambd=(0, 2),\n",
    "           limit_sigma=(0, 0.2))\n",
    "m.migrad()"
   ]
  },
  {
   "cell_type": "code",
   "execution_count": 26,
   "metadata": {},
   "outputs": [
    {
     "data": {
      "image/png": "[encoded data removed]",
      "text/plain": [
       "<Figure size 432x288 with 1 Axes>"
      ]
     },
     "metadata": {
      "needs_background": "light"
     },
     "output_type": "display_data"
    }
   ],
   "source": [
    "plt.hist(x, bins=30, range=(0, 1));\n",
    "plot_model(xe, total(xe, *m.values[:]))"
   ]
  },
  {
   "cell_type": "markdown",
   "metadata": {},
   "source": [
    "As you can see, the result is the same with and without limits within the precision that matters.\n",
    "\n",
    "Some sources (including the Minuit2 user guide) warn about setting limits carelessly. That advice is correct, but unless a parameter converges to a value very close to a limit boundary, the result with and without limits will be effectively the same. For the parameter value itself, this is a guaranteed proven property. Only the parameter uncertainty may be off."
   ]
  },
  {
   "cell_type": "markdown",
   "metadata": {},
   "source": [
    "## Bonus: iminuit and resample"
   ]
  },
  {
   "cell_type": "code",
   "execution_count": 27,
   "metadata": {},
   "outputs": [
    {
     "name": "stdout",
     "output_type": "stream",
     "text": [
      "nfcn for original fit = 626\n",
      "nfcn for fit of b_sample[0] = 93\n",
      "nfcn for fit of b_sample[1] = 37\n",
      "nfcn for fit of b_sample[2] = 35\n",
      "nfcn for fit of b_sample[3] = 33\n",
      "nfcn for fit of b_sample[4] = 34\n",
      "nfcn for fit of b_sample[5] = 47\n",
      "nfcn for fit of b_sample[6] = 46\n",
      "nfcn for fit of b_sample[7] = 46\n",
      "nfcn for fit of b_sample[8] = 46\n",
      "nfcn for fit of b_sample[9] = 34\n",
      "nfcn for fit of b_sample[10] = 47\n",
      "nfcn for fit of b_sample[11] = 48\n",
      "nfcn for fit of b_sample[12] = 46\n",
      "nfcn for fit of b_sample[13] = 47\n",
      "nfcn for fit of b_sample[14] = 109\n",
      "nfcn for fit of b_sample[15] = 80\n",
      "nfcn for fit of b_sample[16] = 78\n",
      "nfcn for fit of b_sample[17] = 47\n",
      "nfcn for fit of b_sample[18] = 46\n",
      "nfcn for fit of b_sample[19] = 48\n",
      "nfcn for fit of b_sample[20] = 78\n",
      "nfcn for fit of b_sample[21] = 47\n",
      "nfcn for fit of b_sample[22] = 80\n",
      "nfcn for fit of b_sample[23] = 83\n",
      "nfcn for fit of b_sample[24] = 45\n",
      "nfcn for fit of b_sample[25] = 80\n",
      "nfcn for fit of b_sample[26] = 79\n",
      "nfcn for fit of b_sample[27] = 96\n",
      "nfcn for fit of b_sample[28] = 93\n",
      "nfcn for fit of b_sample[29] = 94\n",
      "nfcn for fit of b_sample[30] = 48\n",
      "nfcn for fit of b_sample[31] = 37\n",
      "nfcn for fit of b_sample[32] = 78\n",
      "nfcn for fit of b_sample[33] = 35\n",
      "nfcn for fit of b_sample[34] = 47\n",
      "nfcn for fit of b_sample[35] = 96\n",
      "nfcn for fit of b_sample[36] = 46\n",
      "nfcn for fit of b_sample[37] = 81\n",
      "nfcn for fit of b_sample[38] = 47\n",
      "nfcn for fit of b_sample[39] = 35\n",
      "nfcn for fit of b_sample[40] = 81\n",
      "nfcn for fit of b_sample[41] = 49\n",
      "nfcn for fit of b_sample[42] = 34\n",
      "nfcn for fit of b_sample[43] = 82\n",
      "nfcn for fit of b_sample[44] = 48\n",
      "nfcn for fit of b_sample[45] = 35\n",
      "nfcn for fit of b_sample[46] = 50\n",
      "nfcn for fit of b_sample[47] = 47\n",
      "nfcn for fit of b_sample[48] = 95\n",
      "nfcn for fit of b_sample[49] = 35\n"
     ]
    }
   ],
   "source": [
    "from resample import bootstrap\n",
    "\n",
    "cost.n = np.histogram(x, bins=30, range=(0, 1))[0]\n",
    "m = Minuit(cost, ns=1, mu=1, sigma=1, nb=1, lambd=1,\n",
    "           limit_ns=(0, None),\n",
    "           limit_nb=(0, None),  \n",
    "           limit_mu=(0.4, 0.6),\n",
    "           limit_lambd=(0, 2),\n",
    "           limit_sigma=(0, 0.2))\n",
    "m.migrad()\n",
    "print(f\"nfcn for original fit = {m.fmin.nfcn}\")\n",
    "\n",
    "errors = m.errors[:]\n",
    "nfcn = m.fmin.nfcn\n",
    "\n",
    "rng = np.random.default_rng(1)\n",
    "b_value = []\n",
    "b_nfcn = []\n",
    "for i, b_sample in enumerate(bootstrap.resample(x, size=50,\n",
    "                                                random_state=rng)):\n",
    "    cost.n = np.histogram(b_sample, bins=30, range=(0, 1))[0]\n",
    "    m.migrad()\n",
    "    print(f\"nfcn for fit of b_sample[{i}] = {m.fmin.nfcn}\")\n",
    "    assert m.valid\n",
    "    b_value.append(m.values[:])\n",
    "    b_nfcn.append(m.fmin.nfcn)"
   ]
  },
  {
   "cell_type": "markdown",
   "metadata": {},
   "source": [
    "Migrad remembers previous fit result and converges quickly to nearby bootstrapped result."
   ]
  },
  {
   "cell_type": "code",
   "execution_count": 28,
   "metadata": {},
   "outputs": [
    {
     "data": {
      "image/png": "[encoded data removed]",
      "text/plain": [
       "<Figure size 432x288 with 1 Axes>"
      ]
     },
     "metadata": {
      "needs_background": "light"
     },
     "output_type": "display_data"
    }
   ],
   "source": [
    "plt.axvline(nfcn, color=\"C0\", label=\"original\")\n",
    "plt.hist(b_nfcn, color=\"C1\", label=\"bootstrapped\")\n",
    "plt.xlabel(\"number of likelihood evaluations\")\n",
    "plt.legend();"
   ]
  },
  {
   "cell_type": "code",
   "execution_count": 29,
   "metadata": {},
   "outputs": [
    {
     "data": {
      "image/png": "[encoded data removed]",
      "text/plain": [
       "<Figure size 432x288 with 1 Axes>"
      ]
     },
     "metadata": {
      "needs_background": "light"
     },
     "output_type": "display_data"
    }
   ],
   "source": [
    "b_cov = np.cov(np.transpose(b_value))\n",
    "b_errors = np.diag(b_cov) ** 0.5\n",
    "\n",
    "height = 0.35\n",
    "i = np.arange(5)\n",
    "plt.barh(i - height/2, errors, height, label=\"Minuit\")\n",
    "plt.barh(i + height/2, b_errors, height, label=\"bootstrap\")\n",
    "plt.semilogx()\n",
    "plt.yticks(i, m.parameters)\n",
    "plt.xlabel(\"uncertainty estimate\")\n",
    "plt.legend();"
   ]
  },
  {
   "cell_type": "markdown",
   "metadata": {},
   "source": [
    "## Future plans\n",
    "\n",
    "* Replace Cython bindings with pybind11 bindings\n",
    "    * Cython is lagging behind C++ features\n",
    "    * iminuit requires lots of workarounds because of missing features in Cython\n",
    "    * pybind11 is not a separate code generator, just C++\n",
    "* Support unicode parameters\n",
    "* Support pickling of Minuit object\n",
    "\n",
    "## PS: Check out more great iminuit tutorials\n",
    "\n",
    "https://nbviewer.jupyter.org/github/scikit-hep/iminuit/tree/master/tutorial/\n",
    "\n",
    "* How Hesse and Minos really work, which to use when, and is Minos really better? *The answer may surprise you.*\n",
    "* How to use the new cost functions\n",
    "* How to combine automatic differentation with JAX with iminuit\n",
    "* How to use numba to accelerate cost functions"
   ]
  }
 ],
 "metadata": {
  "kernelspec": {
   "display_name": "Python 3",
   "language": "python",
   "name": "python3"
  },
  "language_info": {
   "codemirror_mode": {
    "name": "ipython",
    "version": 3
   },
   "file_extension": ".py",
   "mimetype": "text/x-python",
   "name": "python",
   "nbconvert_exporter": "python",
   "pygments_lexer": "ipython3",
   "version": "3.8.3"
  }
 },
 "nbformat": 4,
 "nbformat_minor": 4
}
